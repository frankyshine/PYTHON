{
 "cells": [
  {
   "cell_type": "markdown",
   "id": "f8ca7854",
   "metadata": {},
   "source": [
    "### Python Dataclasses\n",
    "\n",
    "Dataclasses are python classes, but are suited for storing data objects. This module provides a decorator and functions for automatically adding generated special methods such as __init__() and __repr__() to user-defined classes.\n",
    "\n",
    "Features\n",
    "They store data and represent a certain data type. Ex: A number. For people familiar with ORMs, a model instance is a data object. It represents a specific kind of entity. It holds attributes that define or represent the entity.\n",
    "\n",
    "They can be compared to other objects of the same type. Ex: A number can be greater than, less than, or equal to another number.\n",
    "\n",
    "Python 3.7 provides a decorator dataclass that is used to convert a class into a dataclass."
   ]
  },
  {
   "cell_type": "code",
   "execution_count": null,
   "id": "aa3e147f",
   "metadata": {},
   "outputs": [],
   "source": [
    ">>> class Number:\n",
    "...     def __init__(self, val):\n",
    "...         self.val = val\n",
    "...\n",
    ">>> obj = Number(2)\n",
    ">>> obj.val\n",
    "# 2\n",
    "with dataclass\n"
   ]
  },
  {
   "cell_type": "code",
   "execution_count": null,
   "id": "eb2ea901",
   "metadata": {},
   "outputs": [],
   "source": [
    ">>> @dataclass\n",
    "... class Number:\n",
    "...     val: int\n",
    "...\n",
    ">>> obj = Number(2)\n",
    ">>> obj.val\n",
    "# 2\n"
   ]
  },
  {
   "cell_type": "code",
   "execution_count": null,
   "id": "064bb61a",
   "metadata": {},
   "outputs": [],
   "source": [
    "\n",
    "## Default values\n",
    "## It is easy to add default values to the fields of your data class.\n",
    "\n",
    ">>> @dataclass\n",
    "... class Product:\n",
    "...     name: str\n",
    "...     count: int = 0\n",
    "...     price: float = 0.0\n",
    "...\n",
    ">>> obj = Product(\"Python\")\n",
    ">>> obj.name\n",
    "# Python\n",
    "\n",
    ">>> obj.count\n",
    "# 0\n",
    "\n",
    ">>> obj.price\n",
    "# 0.0\n"
   ]
  },
  {
   "cell_type": "code",
   "execution_count": null,
   "id": "c0e2434b",
   "metadata": {},
   "outputs": [],
   "source": [
    "## Type hints\n",
    "# It is mandatory to define the data type in dataclass. However, If you would rather not specify\n",
    "# the datatype then, use typing.Any.\n",
    "\n",
    "from dataclasses import dataclass\n",
    "from typing import Any\n",
    "\n",
    "@dataclass\n",
    " class WithoutExplicitTypes:\n",
    "    name: Any\n",
    "    value: Any = 42"
   ]
  }
 ],
 "metadata": {
  "kernelspec": {
   "display_name": "Python 3 (ipykernel)",
   "language": "python",
   "name": "python3"
  },
  "language_info": {
   "codemirror_mode": {
    "name": "ipython",
    "version": 3
   },
   "file_extension": ".py",
   "mimetype": "text/x-python",
   "name": "python",
   "nbconvert_exporter": "python",
   "pygments_lexer": "ipython3",
   "version": "3.9.7"
  }
 },
 "nbformat": 4,
 "nbformat_minor": 5
}
