{
 "cells": [
  {
   "cell_type": "markdown",
   "id": "45e10573",
   "metadata": {},
   "source": [
    "#### Dictionaries \n",
    "A mapping is an arbitrary collection of objects indexed by nearly arbitrary values called keys. Mappings are mutable and, unlike sequences, are not ordered. \n",
    "\n",
    "Python provides a single built-in mapping type, the dictionary type. Library and extension modules provide other mapping types, and you can write others yourself (as discussed in Mappings). \n",
    "\n",
    "Keys ( act as table primary keys) in a dictionary may be of different types, but they must be hashable (see hash in Built-in Functions). \n",
    "\n",
    "Values in a dictionary are arbitrary objects and may be of different types. An item in a dictionary is a key/value pair. You can think of a dictionary as an associative array (known in other languages as a “map,” “hash table,” or “hash”).\n",
    "\t "
   ]
  },
  {
   "cell_type": "code",
   "execution_count": null,
   "id": "2b4d06e3",
   "metadata": {},
   "outputs": [],
   "source": [
    "{'x': 42, 'y': 3.14, 'z': 7 }             # Dictionary with three items and string keys\n",
    "{'x' :  42,   'z' :  7,   'y' :  3.14}\n",
    " \n",
    "{1:2, 3:4 }                               # Dictionary with two items and integer keys \n",
    "{1:2, 3:4 } \n",
    "\n",
    "{}                                        # Empty dictionary \n",
    "{}\n",
    " "
   ]
  },
  {
   "cell_type": "markdown",
   "id": "8b1a25b5",
   "metadata": {},
   "source": [
    "If a key appears more than once in a dictionary literal, only one of the items with that key is kept in the resulting dictionary object — dictionaries do not allow duplicate keys. only the last item with that key is kept in the resulting dictionary.\n",
    " "
   ]
  },
  {
   "cell_type": "code",
   "execution_count": null,
   "id": "ed944678",
   "metadata": {},
   "outputs": [],
   "source": [
    "{'FName': 'Franky', 'LName': 'shine', 'Age': 40,  'Age': 41  }        # Dictionary with three items and string keys"
   ]
  },
  {
   "cell_type": "code",
   "execution_count": null,
   "id": "c668bfe6",
   "metadata": {},
   "outputs": [],
   "source": [
    "\n",
    "{'123-44-5679': ['obed', 'Apenteng', '320 Lib str'], '123-44-5678': ['obed', 'Ziglo', '320 Lib str'], '123-44-5677': ['Frank', 'Banin', '320 Lib str'], 'SSN': ['FName', 'LName', 'address']}\n",
    " "
   ]
  },
  {
   "cell_type": "markdown",
   "id": "9f793d53",
   "metadata": {},
   "source": [
    " \n",
    "You can also call the built-in type dict to create a dictionary in a way that, while less concise, can sometimes be more readable esp keys are simple strings. For example, the dictionaries in this last snippets can also, equivalently, be written as, respectively: \n",
    " "
   ]
  },
  {
   "cell_type": "code",
   "execution_count": null,
   "id": "46948a9e",
   "metadata": {},
   "outputs": [],
   "source": [
    "dict(sape=4139, guido=4127, jack=4098)\n",
    "{'sape': 4139, 'jack': 4098, 'guido': 4127}\n",
    "\n",
    "dict( x = 42, y = 3.14, z = 7)        # Dictionary with three items and string keys\n",
    "{ 'x':  42,   'z':  7,   'y':  3.14}\n",
    " \n",
    "dict( [[ 1, 2], [3, 4]] )             # Dictionary with two items and integer keys \n",
    "{1: 2, 3: 4 } \n",
    " \n",
    "dict( [ ['FName', 'LName'], ['Frank', 'Banin'], ['obed', 'apenteng'] ] ) #firstName as key\n",
    "{'Frank': 'Banin', 'FName': 'LName', 'obed': 'apenteng'}\n",
    " \n",
    " \n",
    "dict( [['FName', 'LName'], ['Frank', 'Banin'], ['obed', 'Ziglo'], ['obed', 'Apenteng']]  )\n",
    "{'Frank': 'Banin', 'FName': 'LName', 'obed': 'apenteng'}\n",
    " \n",
    "dict( [       ['SSN', ['FName', 'LName', 'address'] ]\n",
    ", ['123-44-5678', ['Frank', 'Banin', '320 Lib str'] ]\n",
    ", ['123-44-5678', ['obed', 'Ziglo', '320 Lib str'] ]\n",
    ", ['123-44-5678', ['obed', 'Apenteng', '320 Lib str'] ]\n",
    "  ]  \n",
    ")\n",
    "\n",
    "{'123-44-5679': ['obed', 'Apenteng', '320 Lib str'], '123-44-5678': ['obed', 'Ziglo', '320 Lib str'], '123-44-5677': ['Frank', 'Banin', '320 Lib str'], 'SSN': ['FName', 'LName', 'address']}\n",
    " \n",
    "    \n",
    "\n",
    "dict( )                     # Empty dictionary \n",
    "{}\n",
    " "
   ]
  },
  {
   "cell_type": "markdown",
   "id": "c226f599",
   "metadata": {},
   "source": [
    "\n",
    "You can also create a dictionary by calling dict.fromkeys. The first argument is an iterable whose items become the keys of the dictionary; the second argument is the value that corresponds to each key (all keys initially have the same corresponding value). \n",
    " "
   ]
  },
  {
   "cell_type": "code",
   "execution_count": null,
   "id": "ce57f622",
   "metadata": {},
   "outputs": [],
   "source": [
    "dict.fromkeys('hello', 2)             # same as {' h': 2, 'e': 2, 'l': 2, 'o': 2}\n",
    "{' ': 2, 'h': 2, 'l': 2, 'e': 2, 'o': 2}\n",
    " \n",
    "# If you omit the second argument, the value corresponding to each key is None. For example:\n",
    " \n",
    "dict.fromkeys([ 1, 2, 3])             # same as {1: None, 2: None, 3: None}\n",
    "{1: None, 2: None, 3: None}\n",
    " \n",
    " \n",
    " \n",
    "# To illustrate, the following examples all return a dictionary equal to {\"one\": 1, \"two\": 2, \"three\": 3}:\n",
    " \n",
    "\n",
    "b = {'one': 1, 'two': 2, 'three': 3}                #using built-in syntax\n",
    "a = dict(one=1, two=2, three=3)\n",
    "c = dict(zip(['one', 'two', 'three'], [1, 2, 3]))  # matching two lists using dict constructor\n",
    "d = dict([('two', 2), ('one', 1), ('three', 3)])\n",
    "e = dict({'three': 3, 'one': 1, 'two': 2})\n",
    "\n",
    "a == b == c == d == e\n",
    "True\n",
    " \n",
    " "
   ]
  },
  {
   "cell_type": "code",
   "execution_count": null,
   "id": "eb20fadd",
   "metadata": {},
   "outputs": [],
   "source": [
    "## Using built-in syntax\n",
    "# Egs:\n",
    "\n",
    " \n",
    "x = {\n",
    "        'SSN'         : ['FName', 'LName', 'address']\n",
    "        ,'123-44-5679': ['obed', 'Apenteng', '320 Lib str']\n",
    "        ,'123-44-5678': ['obed', 'Ziglo', '320 Lib str']\n",
    "        ,'123-44-5677': ['Frank', 'Banin', '320 Lib str']\n",
    "        ,'NA': ['Frank', 'Banin', '325 Lib str']\n",
    "        ,'': ['Frank', 'shine', '325 Lib str']\n",
    "}\n",
    " \n",
    "#Fetching a value from a dictionary is done using the same syntax as indexing a list,\n",
    "#but using the key rather than an index position.\n",
    " \n",
    "print (x['SSN'])\n",
    "print (x['123-44-5677'])\n",
    " \n",
    " \n",
    "\n",
    "#add new items to y\n",
    "\n",
    "y['123-44-5676']= ['sam', 'trent', '323 Lib str']\n",
    "y['123-44-5672']= ['tony', 'seems', '300 Lib str']\n",
    "y['123-44-5673']= ['chris', 'thompson', '323 Lib str']\n",
    "y['123-44-5663']= ['susan', 'rice', '300 Lib str']\n",
    " \n",
    " \n",
    "for i in y:\n",
    "    print (i, y[i])\n",
    "    \n",
    "\n",
    " \n",
    "#delete individual items from y\n",
    "del y['123-44-5672']\n",
    " \n",
    "#delete a list of items from \n",
    "delList=['NA','']\n",
    "for i in delList:\n",
    "    x=y[i]\n",
    "    del y[i]\n",
    "    print(\"deleted %s\" %x )\n",
    "  "
   ]
  },
  {
   "cell_type": "code",
   "execution_count": null,
   "id": "5a7b7893",
   "metadata": {},
   "outputs": [],
   "source": [
    "# Alt: calling the dict function\n",
    " \n",
    "x=dict(\n",
    "        [\n",
    "                    ['SSN', ['FName', 'LName', 'address'] ]\n",
    ", ['123-44-5678', ['Frank', 'Banin', '320 Lib str'] ]\n",
    ", ['123-44-5678', ['obed', 'Ziglo', '320 Lib str'] ]\n",
    ", ['123-44-5678', ['obed', 'Apenteng', '320 Lib str'] ]        \n",
    "]  \n",
    ")\n",
    " \n",
    "print (x['SSN'])\n",
    "print (x['123-44-5677'])\n",
    "print (x['123-44-5678'])\n",
    "print (x['123-44-5679'])\n"
   ]
  },
  {
   "cell_type": "markdown",
   "id": "3a4ac347",
   "metadata": {},
   "source": [
    "### LOOPING\n",
    " \n",
    "When looping through dictionaries, the key and corresponding value can be retrieved at the same time using the iteritems() method.\n",
    " "
   ]
  },
  {
   "cell_type": "code",
   "execution_count": null,
   "id": "d3b2003b",
   "metadata": {},
   "outputs": [],
   "source": [
    "knights = {'gallahad': 'the pure', 'robin': 'the brave'}\n",
    "for k, v in knights.iteritems():\n",
    "    print k, v\n",
    "\n",
    "gallahad the pure\n",
    "robin the brave\n",
    " "
   ]
  },
  {
   "cell_type": "markdown",
   "id": "494d67d2",
   "metadata": {},
   "source": [
    " \n",
    "Dictionary view objects\n",
    "The objects returned by dict.viewkeys(), dict.viewvalues() and dict.viewitems() are view objects. \n",
    "\n",
    "They provide a dynamic view on the dictionary’s entries, which means that when the dictionary changes, the view reflects these changes.\n",
    " \n",
    "Dictionary views can be iterated over to yield their respective data, and support membership tests:\n",
    " \n",
    "len(dictview)\n",
    "Return the number of entries in the dictionary.\n",
    " \n",
    "iter(dictview)\n",
    "Return an iterator over the keys, values or items (represented as tuples of (key, value)) in the dictionary.\n",
    " \n",
    "Keys and values are iterated over in an arbitrary order which is non-random, varies across Python implementations, and depends on the dictionary’s history of insertions and deletions. If keys, values and items views are iterated over with no intervening modifications to the dictionary, the order of items will directly correspond. This allows the creation of (value, key) pairs \n",
    "\n",
    "using zip(): pairs = zip(d.values(), d.keys()). Another way to create the same list is pairs = [(v, k) for (k, v) in d.items()].\n",
    " \n",
    "Iterating views while adding or deleting entries in the dictionary may raise a RuntimeError or fail to iterate over all entries.\n",
    " \n",
    "x in dictview\n",
    "Return True if x is in the underlying dictionary’s keys, values or items (in the latter case, x should be a (key, value) tuple).\n",
    " \n",
    "Keys views are set-like since their entries are unique and hashable. If all values are hashable, so that (key, value) pairs are unique and hashable, then the items view is also set-like. (Values views are not treated as set-like since the entries are generally not unique.) Then these set operations are available (“other” refers either to another view or a set):\n",
    " "
   ]
  },
  {
   "cell_type": "code",
   "execution_count": null,
   "id": "11afbfc7",
   "metadata": {},
   "outputs": [],
   "source": [
    "# An example of dictionary view usage:\n",
    " \n",
    "dishes = {'eggs': 2, 'sausage': 1, 'bacon': 1, 'spam': 500}\n",
    "keys = dishes.viewkeys()\n",
    "values = dishes.viewvalues()\n",
    " \n",
    "# iteration\n",
    "n = 0\n",
    "for val in values:\n",
    "     n += val\n",
    "print(n)\n",
    "\n",
    " \n",
    "# keys and values are iterated over in the same order\n",
    "list(keys)\n",
    "\n",
    "\n",
    "list(values)\n",
    "[2, 1, 1, 500]\n",
    " \n",
    "# view objects are dynamic and reflect dict changes\n",
    "del dishes['eggs']\n",
    "del dishes['sausage']\n",
    "list(keys)\n",
    "\n",
    "\n",
    " \n",
    "# set operations\n",
    "keys & {'eggs', 'bacon', 'salad'}\n",
    "{'bacon'}\n",
    " \n",
    "  "
   ]
  },
  {
   "cell_type": "markdown",
   "id": "673af7d2",
   "metadata": {},
   "source": [
    "\n",
    "#### Merging Dictionaries\n",
    "Unlike Lists, Dictionaries, on the other hand, don't support slicing. To make a copy of a dictionary myDict, you can use:\n"
   ]
  },
  {
   "cell_type": "code",
   "execution_count": null,
   "id": "93526bea",
   "metadata": {},
   "outputs": [],
   "source": [
    "newDict = {}\n",
    "for key in myDict.keys():\n",
    "    newDict[key] = myDict[key]"
   ]
  },
  {
   "cell_type": "markdown",
   "id": "46d39289",
   "metadata": {},
   "source": [
    "\n",
    "This is such a common task that a new method was added to the dictionary object in Python 1.5, the copy() method, which performs this task. So the preceding code can be replaced with the single statement:\n"
   ]
  },
  {
   "cell_type": "code",
   "execution_count": null,
   "id": "67d27cfe",
   "metadata": {},
   "outputs": [],
   "source": [
    "newDict = myDict.copy()"
   ]
  },
  {
   "cell_type": "markdown",
   "id": "feab12cb",
   "metadata": {},
   "source": [
    "\n",
    "Another common dictionary operation is also now a standard dictionary feature. If you have a dictionary oneDict, and want to update it with the contents of a different dictionary otherDict, simply type oneDict.update(otherDict). This is the equivalent of:\n",
    " "
   ]
  },
  {
   "cell_type": "code",
   "execution_count": null,
   "id": "f6c59ea2",
   "metadata": {},
   "outputs": [],
   "source": [
    "for key in otherDict.keys():\n",
    "    oneDict[key] = otherDict[key]\n"
   ]
  },
  {
   "cell_type": "markdown",
   "id": "43ca8aea",
   "metadata": {},
   "source": [
    "If oneDict shared some keys with otherDict before the update() operation, the old values associated with the keys in oneDict are obliterated by the update. This may be what you want to do (it usually is, which is why this behavior was chosen and why it was called \"update\"). If it isn't, the right thing to do might be to complain (raise an exception), as in:\n",
    " "
   ]
  },
  {
   "cell_type": "code",
   "execution_count": null,
   "id": "dac446ac",
   "metadata": {},
   "outputs": [],
   "source": [
    "def mergeWithoutOverlap(oneDict, otherDict):\n",
    "    newDict = oneDict.copy()\n",
    "    for key in otherDict.keys():\n",
    "        if key in oneDict.keys():\n",
    "            raise ValueError, \"the two dictionaries are sharing keys!\"\n",
    "        newDict[key] = otherDict[key]\n",
    "    return newDict"
   ]
  },
  {
   "cell_type": "code",
   "execution_count": null,
   "id": "562cfb88",
   "metadata": {},
   "outputs": [],
   "source": [
    "# or, alternatively, combine the values of the two dictionaries, with a tuple, for example:\n",
    "\n",
    "def mergeWithOverlap(oneDict, otherDict):\n",
    "    newDict = oneDict.copy()\n",
    "    for key in otherDict.keys():\n",
    "       if key in oneDict.keys():\n",
    "            newDict[key] = oneDict[key], otherDict[key]\n",
    "        else:\n",
    "           newDict[key] = otherDict[key]\n",
    "    return newDict"
   ]
  },
  {
   "cell_type": "markdown",
   "id": "07a55537",
   "metadata": {},
   "source": [
    "To illustrate the differences between the preceding three algorithms, consider the following two dictionaries:"
   ]
  },
  {
   "cell_type": "code",
   "execution_count": null,
   "id": "3d438fb9",
   "metadata": {},
   "outputs": [],
   "source": [
    "\n",
    "phoneBook1 = {'michael': '555-1212', 'mark': '554-1121', 'emily': '556-0091'}\n",
    "phoneBook2 = {'latoya': '555-1255', 'emily': '667-1234'}\n"
   ]
  },
  {
   "cell_type": "markdown",
   "id": "bfabfc2a",
   "metadata": {},
   "source": [
    "If phoneBook1 is possibly out of date, and phoneBook2 is more up to date but less complete, the right usage is probably phoneBook1.update(phoneBook2). \n",
    "\n",
    "If the two phoneBooks are supposed to have nonoverlapping sets of keys, using newBook = mergeWithoutOverlap(phoneBook1, phoneBook2) lets you know if that assumption is wrong. \n",
    "\n",
    "Finally, if one is a set of home phone numbers and the other a set of office phone numbers, chances arenewBook = mergeWithOverlap(phoneBook1, phoneBook2)is what you want, as long as the subsequent code that uses newBook can deal with the fact that newBook['emily'] is the tuple ('556-0091', '667-1234')."
   ]
  },
  {
   "cell_type": "markdown",
   "id": "dec4116f",
   "metadata": {},
   "source": [
    "\n",
    "\n",
    "#### Making Copies: The copy Module\n",
    "Back to making copies: the [:] and .copy()tricks will get you copies in 90% of the cases. If you are writing functions that, in true Python spirit, can deal with arguments of any type, it's sometimes necessary to make copies of X, regardless of what X is. In comes the copy module. It provides two functions, copy and deepcopy. The first is just like the [:] sequence slice operation or the copy method of dictionaries. The second is more subtle and has to do with deeply nested structures (hence the term deepcopy). \n",
    "\n",
    "Take the example of copying a list listOne by slicing it from beginning to end using the [:] construct. This technique makes a new list that contains references to the same objects contained in the original list. If the contents of that original list are immutable objects, such as numbers or strings, the copy is as good as a \"true\" copy. \n",
    "However, suppose that the first element in listOne is itself a dictionary (or any other mutable object). The first element of the copy of listOne is a new reference to the same dictionary. So if you then modify that dictionary, the modification is evident in both listOne and the copy of listOne. An example makes it much clearer:\n"
   ]
  },
  {
   "cell_type": "code",
   "execution_count": null,
   "id": "449af03c",
   "metadata": {},
   "outputs": [],
   "source": [
    "import copy\n",
    "listOne = [{\"name\": \"Willie\", \"city\": \"Providence, RI\"}, 1, \"tomato\", 3.0]\n",
    "listTwo = listOne[:]    # or listTwo=copy.copy(listOne)\n",
    "listThree = copy.deepcopy(listOne)\n",
    "listOne.append(\"kid\")\n",
    "listOne[0][\"city\"] = \"San Francisco, CA\"\n",
    "\n",
    "print listOne, listTwo, listThree\n",
    "[{'name': 'Willie', 'city': 'San Francisco, CA'}, 1, 'tomato', 3.0, 'kid']\n",
    "[{'name': 'Willie', 'city': 'San Francisco, CA'}, 1, 'tomato', 3.0]\n",
    "[{'name': 'Willie', 'city': 'Providence, RI'}, 1, 'tomato', 3.0]"
   ]
  },
  {
   "cell_type": "markdown",
   "id": "37953660",
   "metadata": {},
   "source": [
    "As you can see, modifying listOne directly modified only listOne. Modifying the first entry of the list referenced by listOne led to changes in listTwo, but not in listThree; that's the difference between a shallow copy ([:]) and a deepcopy. The copy module functions know how to copy all the built-in types that are reasonably copyable,[1] including classes and instances.\n"
   ]
  }
 ],
 "metadata": {
  "kernelspec": {
   "display_name": "Python 3 (ipykernel)",
   "language": "python",
   "name": "python3"
  },
  "language_info": {
   "codemirror_mode": {
    "name": "ipython",
    "version": 3
   },
   "file_extension": ".py",
   "mimetype": "text/x-python",
   "name": "python",
   "nbconvert_exporter": "python",
   "pygments_lexer": "ipython3",
   "version": "3.9.7"
  }
 },
 "nbformat": 4,
 "nbformat_minor": 5
}
