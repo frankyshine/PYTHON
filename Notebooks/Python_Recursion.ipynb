{
 "cells": [
  {
   "cell_type": "markdown",
   "id": "33704541",
   "metadata": {},
   "source": [
    "### Recursion\n",
    "\n",
    "A recursive definition is one in which the defined term appears in the definition itself. Self-referential situations often crop up in real life, even if they aren’t immediately recognizable as such. For example, suppose you wanted to describe the set of people that make up your ancestors. You could describe them this way:\n",
    "\n",
    "Your Ancestors = (Your Parents) + (Your parents' Ancestors)\n",
    "\n",
    "Recursive definition of ancestors\n",
    "Notice how the concept that is being defined, ancestors, shows up in its own definition. This is a recursive definition.\n",
    "\n",
    "In programming, recursion has a very precise meaning. It refers to a coding technique in which a function calls itself."
   ]
  },
  {
   "cell_type": "markdown",
   "id": "68f6cafb",
   "metadata": {},
   "source": [
    "# Recursion in Python\n",
    "When you call a function in Python, the interpreter creates a new local namespace so that names defined within that function don’t collide with identical names defined elsewhere. One function can call another, and even if they both define objects with the same name, it all works out fine because those objects exist in separate namespaces.\n",
    "The same holds true if multiple instances of the same function are running concurrently. For example, consider the following definition:\n"
   ]
  },
  {
   "cell_type": "code",
   "execution_count": null,
   "id": "f66ae1ce",
   "metadata": {},
   "outputs": [],
   "source": [
    "def function():\n",
    "    x = 10\n",
    "    function()"
   ]
  },
  {
   "cell_type": "markdown",
   "id": "28de8a46",
   "metadata": {},
   "source": [
    "When function() executes the first time, Python creates a namespace and assigns x the value 10 in that namespace. \n",
    "Then function() calls itself recursively. The second time function() runs, the interpreter creates a second namespace\n",
    "and assigns 10 to x there as well. These two instances of the name x are distinct from each another and can coexist \n",
    "without clashing because they are in separate namespaces.\n",
    "Unfortunately, running function() as it stands produces a result that is less than inspiring, as the following traceback shows:\n"
   ]
  },
  {
   "cell_type": "code",
   "execution_count": null,
   "id": "4ee71391",
   "metadata": {},
   "outputs": [],
   "source": [
    ">>> function()\n",
    "Traceback (most recent call last):\n",
    "  File \"<stdin>\", line 1, in <module>\n",
    "  File \"<stdin>\", line 3, in function\n",
    "  File \"<stdin>\", line 3, in function\n",
    "  File \"<stdin>\", line 3, in function\n",
    "  [Previous line repeated 996 more times]\n",
    "RecursionError: maximum recursion depth exceeded"
   ]
  },
  {
   "cell_type": "markdown",
   "id": "27450f68",
   "metadata": {},
   "source": [
    "As written, function() would in theory go on forever, calling itself over and over without any of the calls ever returning. In practice, of course, nothing is truly forever. Your computer only has so much memory, and it would run out eventually.\n",
    "Python doesn’t allow that to happen. The interpreter limits the maximum number of times a function can call itself recursively, and when it reaches that limit, it raises a RecursionError exception, as you see above.\n",
    "\n",
    "Technical note: You can find out what Python’s recursion limit is with a function from the sys module called getrecursionlimit():"
   ]
  },
  {
   "cell_type": "code",
   "execution_count": null,
   "id": "61d18d8d",
   "metadata": {},
   "outputs": [],
   "source": [
    ">>> from sys import getrecursionlimit\n",
    ">>> getrecursionlimit()\n",
    "1000\n",
    "You can change it, too, with setrecursionlimit():\n",
    "\n",
    ">>> from sys import setrecursionlimit\n",
    ">>> setrecursionlimit(2000)\n",
    ">>> getrecursionlimit()\n",
    "2000\n",
    "You can set it to be pretty large, but you can’t make it infinite."
   ]
  },
  {
   "cell_type": "markdown",
   "id": "5bb35e94",
   "metadata": {},
   "source": [
    "A function that calls itself recursively must have a plan to eventually stop. Recursive functions typically follow this pattern:\n",
    "\n",
    "1. There are one or more base cases that are directly solvable without the need for further recursion.\n",
    "2. Each recursive call moves the solution progressively closer to a base case.\n",
    "\n",
    "You’re now ready to see how this works with some examples."
   ]
  },
  {
   "cell_type": "code",
   "execution_count": 1,
   "id": "01ea2ef9",
   "metadata": {},
   "outputs": [
    {
     "name": "stdout",
     "output_type": "stream",
     "text": [
      "5\n",
      "4\n",
      "3\n",
      "2\n",
      "1\n",
      "0\n"
     ]
    }
   ],
   "source": [
    "# The first example is a function called countdown(), which takes a positive number as an argument \n",
    "# and prints the numbers from the specified argument down to zero:\n",
    "\n",
    "def countdown(n):\n",
    "    print(n)\n",
    "    if n == 0:\n",
    "        return             # Terminate recursion\n",
    "    else:\n",
    "        countdown(n - 1)   # Recursive call\n",
    "\n",
    "\n",
    "countdown(5)"
   ]
  },
  {
   "cell_type": "markdown",
   "id": "0e132889",
   "metadata": {},
   "source": [
    "Notice how countdown() fits the paradigm for a recursive algorithm described above:\n",
    "\n",
    "The base case occurs when n is zero, at which point recursion stops.\n",
    "In the recursive call, the argument is one less than the current value of n, so each recursion moves closer to the base case.\n",
    "\n",
    "Note: For simplicity, countdown() doesn’t check its argument for validity. If n is either a non-integer or negative, you’ll get a RecursionError exception because the base case is never reached.\n",
    "\n",
    "The version of countdown() shown above clearly highlights the base case and the recursive call, but there’s a more concise way to express it:\n"
   ]
  },
  {
   "cell_type": "code",
   "execution_count": 2,
   "id": "accf79be",
   "metadata": {},
   "outputs": [
    {
     "name": "stdout",
     "output_type": "stream",
     "text": [
      "5\n",
      "4\n",
      "3\n",
      "2\n",
      "1\n",
      "0\n"
     ]
    }
   ],
   "source": [
    "def countdown(n):\n",
    "    print(n)\n",
    "    if n > 0:\n",
    "        countdown(n - 1)\n",
    "        \n",
    "\n",
    "countdown(5)"
   ]
  },
  {
   "cell_type": "code",
   "execution_count": null,
   "id": "fd181344",
   "metadata": {},
   "outputs": [],
   "source": [
    "# Here’s one possible non-recursive implementation for comparison:\n",
    "\n",
    ">>> def countdown(n):\n",
    "...     while n >= 0:\n",
    "...         print(n)\n",
    "...         n -= 1\n",
    "...\n",
    "\n",
    ">>> countdown(5)\n",
    "\n",
    "# This is a case where the non-recursive solution is at least as clear and intuitive as the recursive one, \n",
    "# and probably more so."
   ]
  },
  {
   "attachments": {
    "image.png": {
     "image/png": "[encoded data removed]"
    }
   },
   "cell_type": "markdown",
   "id": "24fb5f07",
   "metadata": {},
   "source": [
    "![image.png](attachment:image.png)\n"
   ]
  },
  {
   "cell_type": "markdown",
   "id": "bd770e0b",
   "metadata": {},
   "source": [
    "#### Factorial illustration\n",
    "For example, recursive computation of 4! looks like this:\n",
    "\n",
    "Factorial illustration\n",
    "Recursive Calculation of 4!\n",
    "The calculations of 4!, 3!, and 2! suspend until the algorithm reaches the base case where n = 1. At that point, 1! is computable without further recursion, and the deferred calculations run to completion.\n",
    "\n",
    "Define a Python Factorial Function\n",
    "Here’s a recursive Python function to calculate factorial. Note how concise it is and how well it mirrors the definition shown above:\n"
   ]
  },
  {
   "cell_type": "code",
   "execution_count": null,
   "id": "50305c12",
   "metadata": {},
   "outputs": [],
   "source": [
    "def factorial(n):\n",
    "    return 1 if n <= 1 else n * factorial(n - 1)\n",
    "\n",
    "\n",
    "factorial(4)\n",
    "24\n"
   ]
  },
  {
   "cell_type": "code",
   "execution_count": null,
   "id": "dffeb3a1",
   "metadata": {},
   "outputs": [],
   "source": [
    "# A little embellishment of this function with some print() statements gives a clearer idea of the call and return sequence:\n",
    "\n",
    "def factorial(n):\n",
    "    print(f\"factorial() called with n = {n}\")\n",
    "    return_value = 1 if n <= 1 else n * factorial(n -1)\n",
    "    print(f\"-> factorial({n}) returns {return_value}\")\n",
    "    return return_value\n",
    "\n",
    "\n",
    "factorial(4)\n",
    "factorial() called with n = 4\n",
    "factorial() called with n = 3\n",
    "factorial() called with n = 2\n",
    "factorial() called with n = 1\n",
    "-> factorial(1) returns 1\n",
    "-> factorial(2) returns 2\n",
    "-> factorial(3) returns 6\n",
    "-> factorial(4) returns 24\n",
    "24\n"
   ]
  },
  {
   "cell_type": "markdown",
   "id": "21c7c2d8",
   "metadata": {},
   "source": [
    "\n",
    "Notice how all the recursive calls stack up. The function gets called with n = 4, 3, 2, and 1 in succession before \n",
    "any of the calls return. Finally, when n is 1, the problem can be solved without any more recursion. Then each of the stacked-up recursive calls unwinds back out, returning 1, 2, 6, and finally 24 from the outermost call.\n",
    "Recursion isn’t necessary here. You could implement factorial() iteratively using a for loop:\n"
   ]
  },
  {
   "cell_type": "code",
   "execution_count": null,
   "id": "19df3363",
   "metadata": {},
   "outputs": [],
   "source": [
    "def factorial(n):\n",
    "    return_value = 1\n",
    "    for i in range(2, n + 1):\n",
    "        return_value *= i\n",
    "    return return_value\n",
    "\n",
    "\n",
    "factorial(4)\n",
    "24\n",
    "\n",
    "\n",
    "# You can also implement factorial using Python’s reduce(), which you can import from the functools module:\n",
    "from functools import reduce\n",
    "def factorial(n):\n",
    "    return reduce(lambda x, y: x * y, range(1, n + 1) or [1])\n",
    "\n",
    "\n",
    "factorial(4)\n",
    "24"
   ]
  },
  {
   "cell_type": "markdown",
   "id": "cb6f935f",
   "metadata": {},
   "source": [
    "Again, this shows that if a problem is solvable with recursion, there will also likely be several viable non-recursive solutions as well. You’ll typically choose based on which one results in the most readable and intuitive code.\n",
    "\n",
    "Another factor to take into consideration is execution speed. There can be significant performance differences between recursive and non-recursive solutions. In the next section, you’ll explore these differences a little further.\n",
    "\n",
    "Speed Comparison of Factorial Implementations\n",
    "To evaluate execution time, you can use a function called timeit() from a module that is also called timeit. This function supports a number of different formats, but you’ll use the following format in this tutorial:\n",
    "\n",
    "timeit(<command>, setup=<setup_string>, number=<iterations>)\n",
    "timeit() first executes the commands contained in the specified <setup_string>. Then it executes <command> the given number of <iterations> and reports the cumulative execution time in seconds:\n"
   ]
  },
  {
   "cell_type": "code",
   "execution_count": null,
   "id": "a08ffed6",
   "metadata": {},
   "outputs": [],
   "source": [
    "\n",
    "from timeit import timeit\n",
    "\n",
    "timeit(\"print(string)\", setup=\"string='foobar'\", number=100)\n",
    "foobar\n",
    "foobar\n",
    "foobar\n",
    "   .\n",
    "   . [100 repetitions]\n",
    "   .\n",
    "foobar\n",
    "0.03347089999988384\n",
    "Here, the setup parameter assigns string the value 'foobar'. Then timeit() prints string one hundred times. The total execution time is just over 3/100 of a second.\n",
    "\n",
    "The examples shown below use timeit() to compare the recursive, iterative, and reduce() implementations of factorial from above. In each case, setup_string contains a setup string that defines the relevant factorial() function. timeit() then executes factorial(4) a total of ten million times and reports the aggregate execution.\n",
    "\n",
    "First, here’s the recursive version:\n",
    "\n",
    "setup_string = \"\"\"\n",
    "print(\"Recursive:\")\n",
    "def factorial(n):\n",
    "    return 1 if n <= 1 else n * factorial(n - 1)\n",
    "\"\"\"\n",
    "\n",
    "from timeit import timeit\n",
    "timeit(\"factorial(4)\", setup=setup_string, number=10000000)\n",
    "Recursive:\n",
    "4.957105500000125\n",
    "Next up is the iterative implementation:\n",
    "\n",
    "setup_string = \"\"\"\n",
    "print(\"Iterative:\")\n",
    "def factorial(n):\n",
    "    return_value = 1\n",
    "    for i in range(2, n + 1):\n",
    "        return_value *= i\n",
    "    return return_value\n",
    "\"\"\"\n",
    "\n",
    "from timeit import timeit\n",
    "timeit(\"factorial(4)\", setup=setup_string, number=10000000)\n",
    "Iterative:\n",
    "3.733752099999947\n",
    "Last, here’s the version that uses reduce():\n",
    "\n",
    "setup_string = \"\"\"\n",
    "from functools import reduce\n",
    "print(\"reduce():\")\n",
    "def factorial(n):\n",
    "    return reduce(lambda x, y: x * y, range(1, n + 1) or [1])\n",
    "\"\"\"\n",
    "\n",
    "from timeit import timeit\n",
    "timeit(\"factorial(4)\", setup=setup_string, number=10000000)\n",
    "reduce():\n",
    "8.101526299999932\n",
    "\n",
    "In this case, the iterative implementation is the fastest, although the recursive solution isn’t far behind. The method using reduce() is the slowest. Your mileage will probably vary if you try these examples on your own machine. You certainly won’t get the same times, and you may not even get the same ranking.\n",
    "\n",
    "Does it matter? There’s a difference of almost four seconds in execution time between the iterative implementation and the one that uses reduce(), but it took ten million calls to see it.\n",
    "\n",
    "If you’ll be calling a function many times, you might need to take execution speed into account when choosing an implementation. On the other hand, if the function will run relatively infrequently, then the difference in execution times will probably be negligible. In that case, you’d be better off choosing the implementation that seems to express the solution to the problem most clearly.\n",
    "\n",
    "For factorial, the timings recorded above suggest a recursive implementation is a reasonable choice.\n",
    "\n",
    "Frankly, if you’re coding in Python, you don’t need to implement a factorial function at all. It’s already available in the standard math module:\n",
    "\n",
    "from math import factorial\n",
    "factorial(4)\n",
    "24\n",
    "Perhaps it might interest you to know how this performs in the timing test:\n",
    "\n",
    "setup_string = \"from math import factorial\"\n",
    "\n",
    "from timeit import timeit\n",
    "timeit(\"factorial(4)\", setup=setup_string, number=10000000)\n",
    "0.3724050999999946\n",
    "Wow! math.factorial() performs better than the best of the other three implementations shown above by roughly a factor of 10.\n",
    "\n",
    "Technical note: The fact that math.factorial() is so much speedier probably has nothing to do with whether it’s implemented recursively. More likely it’s because the function is implemented in C rather than Python. For more reading on Python and C, see these resources:\n",
    "\n",
    "Python Bindings: Calling C or C++ From Python\n",
    "Building a Python C Extension Module\n",
    "C for Python Programmers\n",
    "Your Guide to the CPython Source Code\n",
    "CPython Internals book\n",
    "A function implemented in C will virtually always be faster than a corresponding function implemented in pure Python.\n"
   ]
  }
 ],
 "metadata": {
  "kernelspec": {
   "display_name": "Python 3 (ipykernel)",
   "language": "python",
   "name": "python3"
  },
  "language_info": {
   "codemirror_mode": {
    "name": "ipython",
    "version": 3
   },
   "file_extension": ".py",
   "mimetype": "text/x-python",
   "name": "python",
   "nbconvert_exporter": "python",
   "pygments_lexer": "ipython3",
   "version": "3.9.7"
  }
 },
 "nbformat": 4,
 "nbformat_minor": 5
}
