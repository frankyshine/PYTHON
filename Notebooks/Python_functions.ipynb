{
 "cells": [
  {
   "cell_type": "markdown",
   "id": "e5af3b77",
   "metadata": {},
   "source": [
    "### Python Functions\n",
    "A function is a block of code which only runs when it is called.\n",
    "A function can return data as a result.\n",
    "\n",
    "Functions in Python are first class citizens. This means that they support operations such as being passed as an argument, returned from a function, modified, and assigned to a variable. \n",
    "\n",
    "Decorators dynamically alter the functionality of a function, method, or class without having to directly use subclasses or change the source code of the function being decorated. Using decorators in Python also ensures that your code is DRY(Don't Repeat Yourself). Decorators have several use cases such as:\n",
    "\t• Authorization in Python frameworks such as Flask and Django\n",
    "\t• Logging\n",
    "\t• Measuring execution time\n",
    "\t• Synchronization\n",
    "From <https://www.datacamp.com/community/tutorials/decorators-python>"
   ]
  },
  {
   "cell_type": "code",
   "execution_count": 11,
   "id": "97b4d2b1",
   "metadata": {},
   "outputs": [
    {
     "data": {
      "text/plain": [
       "11"
      ]
     },
     "execution_count": 11,
     "metadata": {},
     "output_type": "execute_result"
    }
   ],
   "source": [
    "# Assigning Functions to Variables\n",
    "# assign the function to a variable and use this variable to call the function.\n",
    "\n",
    "def plus_one(number):\n",
    "    return number + 1\n",
    "\n",
    "\n",
    "# x = plus_one\n",
    "# x(5)\n",
    "\n",
    "plus_one(10)\n"
   ]
  },
  {
   "cell_type": "code",
   "execution_count": 12,
   "id": "d1a6b354",
   "metadata": {},
   "outputs": [
    {
     "data": {
      "text/plain": [
       "5"
      ]
     },
     "execution_count": 12,
     "metadata": {},
     "output_type": "execute_result"
    }
   ],
   "source": [
    "# Defining Functions Inside other Functions\n",
    "\n",
    "def plus_one(number):\n",
    "    def add_one(number):\n",
    "        return number + 1\n",
    "    \n",
    "    result = add_one(number)\n",
    "    return result\n",
    "\n",
    "\n",
    "\n",
    "plus_one(4)\n"
   ]
  },
  {
   "cell_type": "code",
   "execution_count": 14,
   "id": "1ef8fc56",
   "metadata": {},
   "outputs": [
    {
     "data": {
      "text/plain": [
       "6"
      ]
     },
     "execution_count": 14,
     "metadata": {},
     "output_type": "execute_result"
    }
   ],
   "source": [
    "## Passing Functions as Arguments to other Functions\n",
    "    #Functions can also be passed as parameters to other functions.\n",
    "\n",
    "def plus_one(number):\n",
    "    return number + 1\n",
    "\n",
    "def function_call(function):\n",
    "    number_to_add = 5\n",
    "    return function(number_to_add)\n",
    "\n",
    "\n",
    "function_call(plus_one)"
   ]
  },
  {
   "cell_type": "code",
   "execution_count": null,
   "id": "b331ad2a",
   "metadata": {},
   "outputs": [],
   "source": [
    "## Functions Returning other Functions\n",
    "  #nA function can also generate another function. We'll show that below using an example.\n",
    "    \n",
    "def hello_function():\n",
    "    def say_hi():\n",
    "        return \"Hi\"\n",
    "    return say_hi\n",
    "\n",
    "hello = hello_function()\n",
    "hello\n",
    "\n",
    " "
   ]
  },
  {
   "cell_type": "code",
   "execution_count": 31,
   "id": "98dc58d4",
   "metadata": {},
   "outputs": [
    {
     "name": "stdout",
     "output_type": "stream",
     "text": [
      "Some random messages\n"
     ]
    }
   ],
   "source": [
    "   \n",
    "## Nested Functions have access to the Enclosing Function's Variable Scope\n",
    " # Python allows a nested function to access the outer scope of the enclosing function. this pattern is known as a Closure.\n",
    "\n",
    "def print_message(message):\n",
    "    \"Enclosong Function\"\n",
    "    \n",
    "    def message_sender():\n",
    "        \"Nested Function\"\n",
    "        print(message)\n",
    "        \n",
    "    return message_sender()\n",
    "\n",
    "\n",
    "print_message(\"Some random messages\")\n"
   ]
  },
  {
   "cell_type": "markdown",
   "id": "feb1edec",
   "metadata": {},
   "source": [
    "#### Return Values\n",
    "To let a function return a value, use the return statement:"
   ]
  },
  {
   "cell_type": "code",
   "execution_count": 32,
   "id": "ee5eafa1",
   "metadata": {},
   "outputs": [
    {
     "name": "stdout",
     "output_type": "stream",
     "text": [
      "15\n",
      "25\n",
      "45\n"
     ]
    }
   ],
   "source": [
    "# Example1\n",
    "def my_function(x):\n",
    "    return 5 * x\n",
    "\n",
    "print(my_function(3))\n",
    "print(my_function(5))\n",
    "print(my_function(9))"
   ]
  },
  {
   "cell_type": "code",
   "execution_count": 37,
   "id": "b287b76e",
   "metadata": {},
   "outputs": [
    {
     "data": {
      "text/plain": [
       "15"
      ]
     },
     "execution_count": 37,
     "metadata": {},
     "output_type": "execute_result"
    }
   ],
   "source": [
    "# Example1\n",
    "def my_function(x):\n",
    "    result = 5 * x\n",
    "    return result\n",
    "    print(result)\n",
    "    \n",
    "my_function(3)\n"
   ]
  },
  {
   "cell_type": "markdown",
   "id": "a86ab999",
   "metadata": {},
   "source": [
    "####  Arguments\n",
    "Information can be passed into functions as arguments.\n",
    "Arguments are specified after the function name, inside the parentheses. You can add as many arguments as you want, just separate them with a comma.\n",
    "\n",
    "Parameters or Arguments?\n",
    "You can pass data, known as parameters, into a function.\n",
    "The terms parameter and argument can be used for the same thing: information that are passed into a function.\n",
    "From a function's perspective:\n",
    "  . A parameter is the variable listed inside the parentheses in the function definition.\n",
    "  . An argument is the value that is sent to the function when it is called."
   ]
  },
  {
   "cell_type": "code",
   "execution_count": null,
   "id": "abc40d22",
   "metadata": {},
   "outputs": [],
   "source": [
    "# example\n",
    "def my_function(fname):\n",
    "  print(fname + \" Refsnes\")\n",
    "\n",
    "my_function(\"Emil\")\n",
    "my_function(\"Tobias\")\n",
    "my_function(\"Linus\")"
   ]
  },
  {
   "cell_type": "markdown",
   "id": "fdbcf45b",
   "metadata": {},
   "source": [
    "##### Number of Arguments\n",
    "By default, a function must be called with the correct number of arguments. Meaning that if your function expects \n",
    "2 arguments, you have to call the function with 2 arguments, not more, and not less.\n"
   ]
  },
  {
   "cell_type": "code",
   "execution_count": null,
   "id": "3e10f1bd",
   "metadata": {},
   "outputs": [],
   "source": [
    "def my_function(fname, lname):\n",
    "  print(fname + \" \" + lname)\n",
    "\n",
    "my_function(\"Emil\", \"Refsnes\")"
   ]
  },
  {
   "cell_type": "markdown",
   "id": "209f9996",
   "metadata": {},
   "source": [
    "#### Arbitrary Arguments, *args\n",
    "If you do not know how many arguments that will be passed into your function, add a * before the parameter name in the function definition.\n",
    "This way the function will receive a tuple of arguments, and can access the items accordingly:\n",
    "Arbitrary Arguments are often shortened to *args in Python documentations.\n"
   ]
  },
  {
   "cell_type": "code",
   "execution_count": 29,
   "id": "43bc5ac9",
   "metadata": {
    "scrolled": true
   },
   "outputs": [
    {
     "name": "stdout",
     "output_type": "stream",
     "text": [
      "The kids are: Emil, Tobias, Linus\n",
      "The youngest child is Linus\n"
     ]
    }
   ],
   "source": [
    "# Example\n",
    " \n",
    "def my_function(*kids):\n",
    "    print(\"The kids are: \" + kids[0] +\", \"+ kids[1] +\", \"+ kids[2] )\n",
    "    print(\"The youngest child is \" + kids[2])\n",
    "               \n",
    "my_function(\"Emil\", \"Tobias\", \"Linus\")"
   ]
  },
  {
   "cell_type": "markdown",
   "id": "c3a42509",
   "metadata": {},
   "source": [
    "#####   Keyword Arguments  \"  kwargs \"\n",
    "You can also send arguments with the key = value syntax.This way the order of the arguments does not matter.\n",
    "The phrase Keyword Arguments are often shortened to kwargs in Python documentations."
   ]
  },
  {
   "cell_type": "code",
   "execution_count": null,
   "id": "faff46e3",
   "metadata": {},
   "outputs": [],
   "source": [
    "# Example\n",
    "def my_function(child3, child2, child1):\n",
    "  print(\"The youngest child is \" + child3)\n",
    "\n",
    "my_function(child1 = \"Emil\", child2 = \"Tobias\", child3 = \"Linus\")\n"
   ]
  },
  {
   "cell_type": "markdown",
   "id": "e178f5d5",
   "metadata": {},
   "source": [
    "#####   Arbitrary Keyword Arguments  \"  **kwargs \"\n",
    "If you do not know how many keyword arguments that will be passed into your function, add two asterisk: ** before the parameter name in the function definition.\n",
    "This way the function will receive a dictionary of arguments, and can access the items accordingly.\n",
    "\n",
    "arbitrary Keyword Arguments are often shortened to **kwargs in Python documentations."
   ]
  },
  {
   "cell_type": "code",
   "execution_count": null,
   "id": "e9325a8d",
   "metadata": {},
   "outputs": [],
   "source": [
    "# Example\n",
    "\n",
    "def my_function(**kid):\n",
    "  print(\"His last name is \" + kid[\"lname\"])\n",
    "\n",
    "my_function(fname = \"Tobias\", lname = \"Refsnes\")"
   ]
  },
  {
   "cell_type": "markdown",
   "id": "9e7d5936",
   "metadata": {},
   "source": [
    "##### Default Parameter Value\n",
    "The following example shows how to use a default parameter value.\n",
    "If we call the function without argument, it uses the default value:"
   ]
  },
  {
   "cell_type": "code",
   "execution_count": null,
   "id": "c88cb559",
   "metadata": {},
   "outputs": [],
   "source": [
    "# Example\n",
    "def my_function(country = \"Norway\"):\n",
    "  print(\"I am from \" + country)\n",
    "\n",
    "my_function(\"Sweden\")\n",
    "my_function(\"India\")\n",
    "my_function()\n",
    "my_function(\"Brazil\")"
   ]
  },
  {
   "cell_type": "markdown",
   "id": "05657394",
   "metadata": {},
   "source": [
    "##### Passing a List as an Argument\n",
    "You can send any data types of argument to a function (string, number, list, dictionary etc.), and it will be treated as the same data type inside the function.\n",
    "E.g. if you send a List as an argument, it will still be a List when it reaches the function:\n"
   ]
  },
  {
   "cell_type": "code",
   "execution_count": null,
   "id": "2999dbc9",
   "metadata": {},
   "outputs": [],
   "source": [
    "# Example\n",
    "def my_function(food):\n",
    "  for x in food:\n",
    "    print(x)\n",
    "\n",
    "fruits = [\"apple\", \"banana\", \"cherry\"]\n",
    "my_function(fruits)"
   ]
  },
  {
   "cell_type": "markdown",
   "id": "5a6837e2",
   "metadata": {},
   "source": [
    "#### Recursion\n",
    "Python also accepts function recursion, which means a defined function can call itself.\n",
    "\n",
    "Recursion is a common mathematical and programming concept. It means that a function calls itself. This has the benefit \n",
    "of meaning that you can loop through data to reach a result.\n",
    "The developer should be very careful with recursion as it can be quite easy to slip into writing a function which never \n",
    "terminates, or one that uses excess amounts of memory or processor power. However, when written correctly recursion can\n",
    "be a very efficient and mathematically-elegant approach to programming.\n",
    "In this example, tri_recursion() is a function that we have defined to call itself (\"recurse\"). We use the k variable \n",
    "as the data, which decrements (-1) every time we recurse. The recursion ends when the condition is not greater than 0 \n",
    "(i.e. when it is 0).\n",
    "To a new developer it can take some time to work out how exactly this works, best way to find out is by testing and \n",
    "modifying it.\n"
   ]
  },
  {
   "cell_type": "code",
   "execution_count": 38,
   "id": "7217f53d",
   "metadata": {},
   "outputs": [
    {
     "name": "stdout",
     "output_type": "stream",
     "text": [
      "\n",
      "\n",
      "Recursion Example Results\n",
      "1\n",
      "3\n",
      "6\n",
      "10\n",
      "15\n",
      "21\n"
     ]
    },
    {
     "data": {
      "text/plain": [
       "21"
      ]
     },
     "execution_count": 38,
     "metadata": {},
     "output_type": "execute_result"
    }
   ],
   "source": [
    "#Recursion Example\n",
    "\n",
    "def tri_recursion(k):\n",
    "  if(k > 0):\n",
    "    result = k + tri_recursion(k - 1)\n",
    "    print(result)\n",
    "  else:\n",
    "    result = 0\n",
    "    \n",
    "  return result\n",
    "\n",
    "\n",
    "\n",
    "print(\"\\n\\nRecursion Example Results\")\n",
    "tri_recursion(6)"
   ]
  },
  {
   "cell_type": "code",
   "execution_count": null,
   "id": "73ee4f80",
   "metadata": {},
   "outputs": [],
   "source": [
    "#### Decorators\n",
    "A decorator is a design pattern in Python that allows a user to add new functionality to an existing object without \n",
    "modifying its structure. Decorators are usually called before the definition of a function you want to decorate."
   ]
  },
  {
   "cell_type": "code",
   "execution_count": 43,
   "id": "ae68de9c",
   "metadata": {},
   "outputs": [
    {
     "data": {
      "text/plain": [
       "'HELLO THERE'"
      ]
     },
     "execution_count": 43,
     "metadata": {},
     "output_type": "execute_result"
    }
   ],
   "source": [
    "# Creating Decorators\n",
    "'''create a simple decorator that will convert a sentence to uppercase. We do this by defining a wrapper inside an \n",
    "enclosed function. As you can see it very similar to the function inside another function that we created earlier.\n",
    "'''\n",
    "def uppercase_decorator(function):\n",
    "    def wrapper():\n",
    "        func = function()\n",
    "        make_uppercase = func.upper()\n",
    "        return make_uppercase\n",
    "    return wrapper()\n",
    "    \n",
    "'''Our decorator function takes a function as an argument, and we shall, therefore, define a function and pass \n",
    "it to our decorator. We learned earlier that we could assign a function to a variable. We'll use that trick \n",
    "to call our decorator function.'''\n",
    "\n",
    "def say_hi():\n",
    "    return 'hello there'\n",
    "\n",
    "decorate = uppercase_decorator(say_hi)\n",
    "decorate\n"
   ]
  },
  {
   "cell_type": "code",
   "execution_count": 71,
   "id": "2129069a",
   "metadata": {},
   "outputs": [
    {
     "data": {
      "text/plain": [
       "'HELLO THERE'"
      ]
     },
     "execution_count": 71,
     "metadata": {},
     "output_type": "execute_result"
    }
   ],
   "source": [
    "# Using @ decoratpr symbol\n",
    "\n",
    "'''However, Python provides a much easier way for us to apply decorators. We simply use the @ symbol before the \n",
    "function we'd like to decorate. Let's show that in practice below.'''\n",
    "\n",
    "def uppercase_decorator(function):\n",
    "    def wrapper():\n",
    "        func = function()\n",
    "        make_uppercase = func.upper()\n",
    "        return make_uppercase\n",
    "    return wrapper()\n",
    "\n",
    "@uppercase_decorator\n",
    "def say_hi():\n",
    "    return 'hello there'\n",
    "\n",
    "say_hi"
   ]
  },
  {
   "cell_type": "code",
   "execution_count": 75,
   "id": "7f04b7a6",
   "metadata": {},
   "outputs": [
    {
     "ename": "AttributeError",
     "evalue": "'list' object has no attribute 'upper'",
     "output_type": "error",
     "traceback": [
      "\u001b[1;31m---------------------------------------------------------------------------\u001b[0m",
      "\u001b[1;31mAttributeError\u001b[0m                            Traceback (most recent call last)",
      "Cell \u001b[1;32mIn[75], line 23\u001b[0m\n\u001b[0;32m     18\u001b[0m         \u001b[38;5;28;01mreturn\u001b[39;00m splitted_string\n\u001b[0;32m     19\u001b[0m     \u001b[38;5;28;01mreturn\u001b[39;00m wrapper\n\u001b[0;32m     21\u001b[0m \u001b[38;5;129;43m@uppercase_decorator\u001b[39;49m\n\u001b[0;32m     22\u001b[0m \u001b[38;5;129;43m@split_string\u001b[39;49m\n\u001b[1;32m---> 23\u001b[0m \u001b[38;5;28;43;01mdef\u001b[39;49;00m\u001b[43m \u001b[49m\u001b[38;5;21;43msay_hi\u001b[39;49m\u001b[43m(\u001b[49m\u001b[43m)\u001b[49m\u001b[43m:\u001b[49m\n\u001b[0;32m     24\u001b[0m \u001b[43m    \u001b[49m\u001b[38;5;28;43;01mreturn\u001b[39;49;00m\u001b[43m \u001b[49m\u001b[38;5;124;43m'\u001b[39;49m\u001b[38;5;124;43mhello there\u001b[39;49m\u001b[38;5;124;43m'\u001b[39;49m\n\u001b[0;32m     26\u001b[0m say_hi\n",
      "Cell \u001b[1;32mIn[75], line 12\u001b[0m, in \u001b[0;36muppercase_decorator\u001b[1;34m(function)\u001b[0m\n\u001b[0;32m     10\u001b[0m     make_uppercase \u001b[38;5;241m=\u001b[39m func\u001b[38;5;241m.\u001b[39mupper()\n\u001b[0;32m     11\u001b[0m     \u001b[38;5;28;01mreturn\u001b[39;00m make_uppercase\n\u001b[1;32m---> 12\u001b[0m \u001b[38;5;28;01mreturn\u001b[39;00m \u001b[43mwrapper\u001b[49m\u001b[43m(\u001b[49m\u001b[43m)\u001b[49m\n",
      "Cell \u001b[1;32mIn[75], line 10\u001b[0m, in \u001b[0;36muppercase_decorator.<locals>.wrapper\u001b[1;34m()\u001b[0m\n\u001b[0;32m      8\u001b[0m \u001b[38;5;28;01mdef\u001b[39;00m \u001b[38;5;21mwrapper\u001b[39m():\n\u001b[0;32m      9\u001b[0m     func \u001b[38;5;241m=\u001b[39m function()\n\u001b[1;32m---> 10\u001b[0m     make_uppercase \u001b[38;5;241m=\u001b[39m \u001b[43mfunc\u001b[49m\u001b[38;5;241;43m.\u001b[39;49m\u001b[43mupper\u001b[49m()\n\u001b[0;32m     11\u001b[0m     \u001b[38;5;28;01mreturn\u001b[39;00m make_uppercase\n",
      "\u001b[1;31mAttributeError\u001b[0m: 'list' object has no attribute 'upper'"
     ]
    }
   ],
   "source": [
    "#Applying Multiple Decorators to a Single Function\n",
    "'''\n",
    "We can use multiple decorators to a single function. However, the decorators will be applied in the order that \n",
    "we've called them. Below we'll define another decorator that splits the sentence into a list. We'll then apply \n",
    "the uppercase_decorator and split_string decorator to a single function.'''\n",
    "\n",
    "def uppercase_decorator(function):\n",
    "    def wrapper():\n",
    "        func = function()\n",
    "        make_uppercase = func.upper()\n",
    "        return make_uppercase\n",
    "    return wrapper()\n",
    "\n",
    "def split_string(function):\n",
    "    def wrapper():\n",
    "        func = function()\n",
    "        splitted_string = func.split()\n",
    "        return splitted_string\n",
    "    return wrapper\n",
    "\n",
    "@uppercase_decorator\n",
    "@split_string\n",
    "def say_hi():\n",
    "    return 'hello there'\n",
    "\n",
    "say_hi\n",
    "\n",
    "\n",
    "''' From the above output, we notice that the application of decorators is from the bottom up. \n",
    "Had we interchanged the order, we'd have seen an error since lists don't have an upperattribute. \n",
    "The sentence has first been converted to uppercase and then split into a list.'''"
   ]
  },
  {
   "cell_type": "code",
   "execution_count": 83,
   "id": "8561a910",
   "metadata": {},
   "outputs": [
    {
     "data": {
      "text/plain": [
       "['HELLO', 'THERE']"
      ]
     },
     "execution_count": 83,
     "metadata": {},
     "output_type": "execute_result"
    }
   ],
   "source": [
    "def uppercase_decorator(function):\n",
    "    def wrapper():\n",
    "        func = function()\n",
    "        make_uppercase = func.upper()\n",
    "        return make_uppercase\n",
    "    return wrapper()\n",
    "\n",
    "def split_string(function):\n",
    "    def wrapper():\n",
    "        func = function                  # note function is assigned a variable this time\n",
    "        splittedString = func.split()\n",
    "        return splittedString\n",
    "    return wrapper\n",
    "\n",
    "@split_string\n",
    "@uppercase_decorator\n",
    "def say_hi():\n",
    "    return 'hello there'\n",
    "\n",
    "say_hi()\n"
   ]
  },
  {
   "cell_type": "code",
   "execution_count": 84,
   "id": "2261bd73",
   "metadata": {},
   "outputs": [
    {
     "name": "stdout",
     "output_type": "stream",
     "text": [
      "My arguments are: Nairobi, Accra\n",
      "Cities I love are Nairobi and Accra\n"
     ]
    }
   ],
   "source": [
    "## Accepting Arguments in Decorator Functions\n",
    "'''Sometimes we might need to define a decorator that accepts arguments. We achieve this by passing the arguments to \n",
    "the wrapper function. The arguments will then be passed to the function that is being decorated at call time.'''\n",
    "\n",
    "def decorator_with_arguments(function):\n",
    "    def wrapper_accepting_arguments(arg1, arg2):\n",
    "        print(\"My arguments are: {0}, {1}\".format(arg1,arg2))\n",
    "        function(arg1, arg2)\n",
    "    return wrapper_accepting_arguments\n",
    "\n",
    "@decorator_with_arguments\n",
    "def cities(city_one, city_two):\n",
    "    print(\"Cities I love are {0} and {1}\".format(city_one, city_two))\n",
    "    \n",
    "    \n",
    "cities(\"Nairobi\", \"Accra\")"
   ]
  },
  {
   "cell_type": "code",
   "execution_count": 89,
   "id": "37375928",
   "metadata": {},
   "outputs": [],
   "source": [
    "## Defining General Purpose Decorators\n",
    "'''To define a general purpose decorator that can be applied to any function we use args and **kwargs. args and **kwargs\n",
    "collect all positional and keyword arguments and stores them in the args and kwargs variables. args and kwargs allow \n",
    "us to pass as many arguments as we would like during function calls.'''\n",
    "\n",
    "def a_decorator_passing_arbitrary_arguments(function_to_decorate):\n",
    "    def a_wrapper_accepting_arbitrary_arguments(*args,**kwargs):\n",
    "        print('The positional arguments are', args)\n",
    "        print('The keyword arguments are', kwargs)\n",
    "        function_to_decorate(*args)\n",
    "    return a_wrapper_accepting_arbitrary_arguments\n",
    "\n",
    "@a_decorator_passing_arbitrary_arguments\n",
    "def function_with_no_argument():\n",
    "    print(\"No arguments here.\")\n",
    "\n",
    "\n",
    "# Let's see how we'd use the decorator using positional arguments.\n",
    "@a_decorator_passing_arbitrary_arguments\n",
    "def function_with_arguments(a, b, c):\n",
    "    print(a, b, c)\n",
    "    \n",
    "function_with_no_argument()\n",
    "function_with_arguments()"
   ]
  },
  {
   "cell_type": "code",
   "execution_count": 91,
   "id": "88178e73",
   "metadata": {},
   "outputs": [
    {
     "name": "stdout",
     "output_type": "stream",
     "text": [
      "The positional arguments are ()\n",
      "The keyword arguments are {'first_name': 'Derrick', 'last_name': 'Mwiti'}\n",
      "This has shown keyword arguments\n"
     ]
    }
   ],
   "source": [
    "'''Keyword arguments are passed using keywords. An illustration of this is shown below.'''\n",
    "\n",
    "def a_decorator_passing_arbitrary_arguments(function_to_decorate):\n",
    "    def a_wrapper_accepting_arbitrary_arguments(*args,**kwargs):\n",
    "        print('The positional arguments are', args)\n",
    "        print('The keyword arguments are', kwargs)\n",
    "        function_to_decorate(*args)\n",
    "    return a_wrapper_accepting_arbitrary_arguments\n",
    "\n",
    "\n",
    "@a_decorator_passing_arbitrary_arguments\n",
    "def function_with_keyword_arguments():\n",
    "    print(\"This has shown keyword arguments\")\n",
    "    \n",
    "function_with_keyword_arguments(first_name=\"Derrick\", last_name=\"Mwiti\")\n",
    "\n"
   ]
  },
  {
   "cell_type": "code",
   "execution_count": 98,
   "id": "b8c669b1",
   "metadata": {},
   "outputs": [
    {
     "name": "stdout",
     "output_type": "stream",
     "text": [
      "The wrapper can access all the variables\n",
      "\t- from the decorator maker: Pandas Numpy Scikit-learn\n",
      "\t- from the function call: Pandas Science Tools\n",
      "and pass them to the decorated function\n",
      "This is the decorated function and it only knows about its arguments: Pandas Science Tools\n"
     ]
    }
   ],
   "source": [
    "## Passing Arguments to the Decorator\n",
    "'''Now let's see how we'd pass arguments to the decorator itself. In order to achieve this, we define a decorator maker \n",
    "that accepts arguments then define a decorator inside it. We then define a wrapper function inside the decorator as \n",
    "we did earlier.'''\n",
    "\n",
    "def decorator_maker_with_arguments(decorator_arg1, decorator_arg2, decorator_arg3):\n",
    "    def decorator(func):\n",
    "        def wrapper(function_arg1, function_arg2, function_arg3) :\n",
    "            \"This is the wrapper function\"\n",
    "            print(\"The wrapper can access all the variables\\n\"\n",
    "                  \"\\t- from the decorator maker: {0} {1} {2}\\n\"\n",
    "                  \"\\t- from the function call: {3} {4} {5}\\n\"\n",
    "                  \"and pass them to the decorated function\"\n",
    "                  .format(decorator_arg1, decorator_arg2,decorator_arg3,\n",
    "                          function_arg1, function_arg2,function_arg3))\n",
    "            return func(function_arg1, function_arg2,function_arg3)\n",
    "        return wrapper\n",
    "    return decorator\n",
    "   \n",
    "    \n",
    "@decorator_maker_with_arguments(\"Pandas\", \"Numpy\",\"Scikit-learn\")\n",
    "def decorated_function_with_arguments(function_arg1, function_arg2,function_arg3):\n",
    "    print(\"This is the decorated function and it only knows about its arguments: {0}\"\n",
    "           \" {1}\" \" {2}\".format(function_arg1, function_arg2,function_arg3))\n",
    "    \n",
    "decorated_function_with_arguments(pandas, \"Science\", \"Tools\")\n"
   ]
  },
  {
   "cell_type": "code",
   "execution_count": null,
   "id": "a8657efd",
   "metadata": {},
   "outputs": [],
   "source": [
    "Debugging Decorators\n",
    "'''As we have noticed, decorators wrap functions. The original function name, its docstring, and parameter list are \n",
    "all hidden by the wrapper closure: For example, when we try to access the decorated_function_with_arguments metadata, \n",
    "we'll see the wrapper closure's metadata. This presents a challenge when debugging.\n",
    "\n",
    "decorated_function_with_arguments.__name__\n",
    "'wrapper'\n",
    "decorated_function_with_arguments.__doc__\n",
    "'This is the wrapper function'\n",
    "\n",
    "In order to solve this challenge Python provides a functools.wraps decorator. This decorator copies the lost metadata \n",
    "from the undecorated function to the decorated closure. Let's show how we'd do that. '''\n",
    "\n",
    "import functools\n",
    "def uppercase_decorator(func):\n",
    "    @functools.wraps(func)\n",
    "    def wrapper():\n",
    "        return func().upper()\n",
    "    return wrapper\n",
    "\n",
    "@uppercase_decorator\n",
    "def say_hi():\n",
    "    \"This will say hi\"\n",
    "    return 'hello there'\n",
    "\n",
    "say_hi()\n",
    "\n",
    "''' When we check the say_hi metadata, we notice that it is now referring to the function's metadata and not the wrapper's\n",
    "metadata.'''\n",
    "\n",
    "say_hi.__name__\n",
    "'say_hi'\n",
    "\n",
    "say_hi.__doc__\n",
    "'This will say hi'\n",
    "\n",
    "'''It is advisable and good practice to always use functools.wraps when defining decorators. It will save you a lot of \n",
    "headache in debugging.'''\n"
   ]
  }
 ],
 "metadata": {
  "kernelspec": {
   "display_name": "Python 3 (ipykernel)",
   "language": "python",
   "name": "python3"
  },
  "language_info": {
   "codemirror_mode": {
    "name": "ipython",
    "version": 3
   },
   "file_extension": ".py",
   "mimetype": "text/x-python",
   "name": "python",
   "nbconvert_exporter": "python",
   "pygments_lexer": "ipython3",
   "version": "3.9.7"
  }
 },
 "nbformat": 4,
 "nbformat_minor": 5
}
