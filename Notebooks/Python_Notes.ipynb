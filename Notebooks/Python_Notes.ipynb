{
 "cells": [
  {
   "cell_type": "markdown",
   "id": "68e85548",
   "metadata": {},
   "source": [
    "#### Operators in Python"
   ]
  },
  {
   "cell_type": "code",
   "execution_count": 1,
   "id": "c5c9cace",
   "metadata": {},
   "outputs": [
    {
     "ename": "NameError",
     "evalue": "name 'a' is not defined",
     "output_type": "error",
     "traceback": [
      "\u001b[1;31m---------------------------------------------------------------------------\u001b[0m",
      "\u001b[1;31mNameError\u001b[0m                                 Traceback (most recent call last)",
      "Cell \u001b[1;32mIn[1], line 4\u001b[0m\n\u001b[0;32m      1\u001b[0m \u001b[38;5;66;03m## Arithmetic \u001b[39;00m\n\u001b[0;32m      2\u001b[0m \n\u001b[0;32m      3\u001b[0m \u001b[38;5;66;03m# addition\u001b[39;00m\n\u001b[1;32m----> 4\u001b[0m \u001b[38;5;28mprint\u001b[39m (\u001b[38;5;124m'\u001b[39m\u001b[38;5;124mSum: \u001b[39m\u001b[38;5;124m'\u001b[39m, \u001b[43ma\u001b[49m \u001b[38;5;241m+\u001b[39m b)  \n\u001b[0;32m      6\u001b[0m \u001b[38;5;66;03m# subtraction\u001b[39;00m\n\u001b[0;32m      7\u001b[0m \u001b[38;5;28mprint\u001b[39m (\u001b[38;5;124m'\u001b[39m\u001b[38;5;124mSubtraction: \u001b[39m\u001b[38;5;124m'\u001b[39m, a \u001b[38;5;241m-\u001b[39m b)   \n",
      "\u001b[1;31mNameError\u001b[0m: name 'a' is not defined"
     ]
    }
   ],
   "source": [
    " ## Arithmetic \n",
    "\n",
    "# addition\n",
    "print ('Sum: ', a + b)  \n",
    "\n",
    "# subtraction\n",
    "print ('Subtraction: ', a - b)   \n",
    "\n",
    "# multiplication\n",
    "print ('Multiplication: ', a * b)  \n",
    "\n",
    "# division\n",
    "print ('Division: ', a / b) \n",
    "\n",
    "# floor division\n",
    "print ('Floor Division: ', a // b)\n",
    "\n",
    "# modulo\n",
    "print ('Modulo: ', a % b)  \n",
    "\n",
    "# a to the power b\n",
    "print ('Power: ', a ** b)   \n",
    "\n",
    "\n",
    "## Assignment Operators\n",
    "\n",
    "# Assignment Operator\n",
    " a = 7\n",
    "    \n",
    "# Addition Assignment\n",
    " a += 1                                         # a = a + 1\n",
    "    \n",
    "# Subtraction Assignment\n",
    "a -= 3                                          # a = a - 3\n",
    "\n",
    "#  Multiplication Assignment\n",
    "a *= 4                                          # a = a * 4\n",
    "\n",
    "#  Division Assignment\n",
    "a /= 3                                          # a = a / 3\n",
    "\n",
    "#  Remainder Assignment\t\n",
    "a %= 10                                         # a = a % 10\n",
    "\n",
    "# Exponent Assignment\t\n",
    "a **= 10                                        # a = a ** 10\n",
    "\n",
    "\n",
    "\n",
    "# Comparison Operators\n",
    "'''Note: Comparison operators compare two values/variables and return a boolean result: \n",
    "True or False'''\n",
    "\n",
    "a = 5\n",
    "b = 2\n",
    "\n",
    "# equal to operator\n",
    "print('a == b =', a == b)\n",
    "\n",
    "# not equal to operator\n",
    "print('a != b =', a != b)\n",
    "\n",
    "# greater than operator\n",
    "print('a > b =', a > b)\n",
    "\n",
    "# less than operator\n",
    "print('a < b =', a < b)\n",
    "\n",
    "# greater than or equal to operator\n",
    "print('a >= b =', a >= b)\n",
    "\n",
    "# less than or equal to operator\n",
    "print('a <= b =', a <= b)\n"
   ]
  },
  {
   "cell_type": "markdown",
   "id": "c4201fb3",
   "metadata": {},
   "source": [
    "#### Equality Comparison on Floating-Point Values\n",
    "Recall from the earlier discussion of floating-point numbers that the value stored internally for a float object may not be precisely what you’d think it would be. For that reason, it is poor practice to compare floating-point values for exact equality. Consider this example:\n"
   ]
  },
  {
   "cell_type": "code",
   "execution_count": 4,
   "id": "514b589b",
   "metadata": {},
   "outputs": [
    {
     "name": "stdout",
     "output_type": "stream",
     "text": [
      "[2, 4, 6, 8]\n"
     ]
    }
   ],
   "source": [
    "x = 1.1 + 2.2\n",
    "x == 3.3\n",
    "# False"
   ]
  },
  {
   "cell_type": "markdown",
   "id": "fb49f150",
   "metadata": {},
   "source": [
    "Yikes! The internal representations of the addition operands are not exactly equal to 1.1 and 2.2, so you cannot rely on x to compare exactly to 3.3.\n",
    "The preferred way to determine whether two floating-point values are “equal” is to compute whether they are close to one another, given some tolerance. Take a look at this example:"
   ]
  },
  {
   "cell_type": "code",
   "execution_count": null,
   "id": "4e280762",
   "metadata": {},
   "outputs": [],
   "source": [
    "tolerance = 0.00001\n",
    "x = 1.1 + 2.2\n",
    "abs(x - 3.3) < tolerance\n",
    "True"
   ]
  },
  {
   "cell_type": "markdown",
   "id": "b3e8058f",
   "metadata": {},
   "source": [
    "abs() returns absolute value. If the absolute value of the difference between the two numbers is less than the specified tolerance, they are close enough to one another to be considered equal."
   ]
  },
  {
   "cell_type": "markdown",
   "id": "90e02b30",
   "metadata": {},
   "source": [
    "### The return Statement\n",
    "The statement return [expression] exits a function, optionally passing back an expression to the caller. A return statement with no arguments is the same as return None.\n",
    "All the above examples are not returning any value. You can return a value from a function as follows "
   ]
  },
  {
   "cell_type": "code",
   "execution_count": null,
   "id": "dad92172",
   "metadata": {},
   "outputs": [],
   "source": [
    "#!/usr/bin/python\n",
    "\n",
    "# Function definition is here\n",
    "def sum1( arg1, arg2 ):\n",
    "   total = arg1 + arg2\n",
    "\n",
    "def sum2( arg1, arg2 ):\n",
    "   total = arg1 + arg2\n",
    "   print (total)         # print Inside the function\n",
    "   \n",
    "def sum3( arg1, arg2 ):\n",
    "   total = arg1 + arg2\n",
    "   return;               # explicitly return None\n",
    "\n",
    "def sum4( arg1, arg2 ):\n",
    "   total = arg1 + arg2\n",
    "   return None ;         # explicitly return None\n",
    "\n",
    "def sum5( arg1, arg2 ):\n",
    "   # Add both the parameters and return them.\"\n",
    "   total = arg1 + arg2\n",
    "   return total;\n",
    "\n",
    "\"Note that sum1 and sum2 implicitly  'returns None;' final statement\"\n",
    "\n",
    "\n",
    "# Now you can call sum functions\n",
    "sum1(10,20) # returns nothing (none)\n",
    "sum2(10,20) # returns the print of \"total\" inside the function\n",
    "sum3(10,20)   # returns the value of \"total\"\n",
    "sum4(10,20)   # returns the value of \"total\"\n",
    "sum5(10,20)   # returns the value of \"total\"\n",
    "\n",
    "# total = sum3( 10, 20 );\n",
    "# print (\"print sum3 Outside the function : \", total )\n",
    "\n",
    "# sum1(10,20) + 2     # errors out: unsupported operand type(s) for +: 'NoneType' and 'int'\n",
    "# sum2(10,20) + 2     # errors out: unsupported operand type(s) for +: 'NoneType' and 'int'\n",
    "# sum3(10,20) + 2     # errors out: unsupported operand type(s) for +: 'NoneType' and 'int'\n",
    "# sum4(10,20) + 2     # errors out: unsupported operand type(s) for +: 'NoneType' and 'int'\n",
    "sum5(10,20) + 2"
   ]
  },
  {
   "cell_type": "markdown",
   "id": "cef2143c",
   "metadata": {},
   "source": [
    "### Variables and Arithmetic Expressions \n",
    "The program in Listing 1.1 shows the use of variables and expressions by performing a simple compound-interest calculation."
   ]
  },
  {
   "cell_type": "code",
   "execution_count": null,
   "id": "7fe9712d",
   "metadata": {},
   "outputs": [],
   "source": [
    "principal = 100\n",
    "rate = 0.05\n",
    "numyears = 5\n",
    "year = 1\n",
    "while year <= numyears:\n",
    "    principal = principal * (1 + rate)\n",
    "    print (year, principal)\n",
    "    year += 1"
   ]
  },
  {
   "cell_type": "markdown",
   "id": "ee70d752",
   "metadata": {},
   "source": [
    "Python is a dynamically typed language where variable names are bound to different values, possibly of varying types, during program execution. The assignment operator simply creates an association between a name and a value. Although each value has an associated type such as an integer or string, variable names are untyped and can be made to refer to any type of data during execution. This is different from C, for example, in which a name represents a fixed type, size, and location in memory into which a value is stored. The dynamic behavior of Python can be seen in Listing 1.1 with the principal variable. Initially, it’s assigned to an integer value. However, later in the program it’s reassigned as follows: \n",
    "\n",
    "principal = principal * (1 + rate) \n",
    "\n",
    "This statement evaluates the expression and reassociates the name principal with the result. Although the original value of principal was an integer 1000, the new value is now a floating-point number (rate is defined as a float, so the value of the above expression is also a float). Thus, the apparent “type” of principal dynamically changes from an integer to a float in the middle of the program. However, to be precise, it’s not the type of principal that has changed, but rather the value to which the principal name refers. A newline terminates each statement. However, you can use a semicolon to separate statements on the same line, as shown here:\n",
    "\n",
    "principal = 1000; rate = 0.05; numyears = 5; \n",
    "\n",
    "The while statement tests the conditional expression that immediately follows. If the tested statement is true, the body of the while statement executes. The condition is then retested and the body executed again until the condition becomes false. Because the body of the loop is denoted by indentation, the three statements following while in Listing 1.1 execute on each iteration. Python doesn’t specify the amount of required indentation, as long as it’s consistent within a block. However, it is most common (and generally recommended) to use four spaces per indentation level. One problem with the program in Listing 1.1 is that the output isn’t very pretty. To make it better, you could right-align the columns and limit the precision of principal to two digits. There are several ways to achieve this formatting. The most widely used approach is to use the string formatting operator (%) like this: "
   ]
  },
  {
   "cell_type": "code",
   "execution_count": null,
   "id": "7b5a3489",
   "metadata": {},
   "outputs": [],
   "source": []
  },
  {
   "cell_type": "code",
   "execution_count": null,
   "id": "10ea5489",
   "metadata": {},
   "outputs": [],
   "source": [
    "Now the output of the program looks like this:"
   ]
  },
  {
   "cell_type": "code",
   "execution_count": null,
   "id": "50cd605c",
   "metadata": {},
   "outputs": [],
   "source": []
  },
  {
   "cell_type": "markdown",
   "id": "2e07572b",
   "metadata": {},
   "source": [
    "\n",
    "### Object Identity and Type\n",
    "Beazley, David M.. Python Essential Reference (Developer's Library) . Pearson Education. Kindle Edition. \n",
    "\n",
    "Objects and type\n",
    "The operation of a Python program hinges on the data it handles. All data values in Python are objects, and each object, or value, has a type. An object’s type determines which operations the object supports, or, in other words, which operations you can perform on the data value. The type also determines the object’s attributes and items (if any) and whether the object can be altered.\n",
    " \n",
    "mutable object: An object that can be altered is known as a mutable object\n",
    "immutable object:  object that cannot be altered is an immutable object\n",
    " "
   ]
  },
  {
   "cell_type": "code",
   "execution_count": null,
   "id": "3164a8d6",
   "metadata": {},
   "outputs": [],
   "source": [
    "## The built-in \n",
    " \n",
    "type(obj) \n",
    "eg.\n",
    "myObj= ('supercalifragilisticexpialidocious')      #string object\n",
    "myObj\n",
    "'supercalifragilisticexpialidocious'\n",
    "\n",
    "type(myObj)\n",
    "<class 'str'>\n",
    " \n",
    "## accepts any object as its argument and returns the type object that is the type of obj. \n",
    "\n",
    "\n",
    "## Built-in function \n",
    "isinstance(obj,type)\n",
    " \n",
    "eg.\n",
    " \n",
    "isinstance(myObj, type)     # Not a type object\n",
    "False\n",
    "\n",
    "isinstance(myObj, str)    # string object\n",
    "True\n",
    " \n",
    "'''returns True if object obj has type type (or any subclass thereof); otherwise, it returns False. \n",
    "Python has built-in types for fundamental data types such as numbers, strings, tuples, lists, and dictionaries, \n",
    "as covered in the following sections. You can also create user-defined types, known as classes, as discussed in \n",
    "Classes and Instances'''\n",
    " \n"
   ]
  },
  {
   "cell_type": "markdown",
   "id": "5dc52100",
   "metadata": {},
   "source": [
    "id()\n",
    "The built-in function id() returns the identity of an object as an integer. This integer usually corresponds to the object’s location in memory, although this is specific to the Python implementation and no such interpretation of the identity should be made.\n",
    "\n",
    "\"is\" operator\n",
    "The \"is\" operator compares the identity of two objects.\n"
   ]
  },
  {
   "cell_type": "code",
   "execution_count": null,
   "id": "866748c3",
   "metadata": {},
   "outputs": [],
   "source": [
    "# compare two objects\n",
    "\n",
    "def compare(a,b):\n",
    "    \n",
    "    if a is b:               # a and b are the same objects\n",
    "        print(type(a))\n",
    "        \n",
    "    if a == b:             # a and b have the same value\n",
    "        print(a)\n",
    "        \n",
    "    if type(a) is type(b):   # a and b are the same type\n",
    "         print(a)\n",
    "            \n",
    "    if isinstance(a, str) is isinstance(b, str):   # a and b are the same objects\n",
    "         print(a)"
   ]
  },
  {
   "cell_type": "code",
   "execution_count": null,
   "id": "04143824",
   "metadata": {},
   "outputs": [],
   "source": [
    "# check types\n",
    "def checktypes(l, d):\n",
    "    \n",
    "    if type(l) is list:\n",
    "        l.append(\"firstItem\")\n",
    "        \n",
    "    if type(d) is dict:\n",
    "        d.update(t)"
   ]
  },
  {
   "cell_type": "markdown",
   "id": "5e5073af",
   "metadata": {},
   "source": [
    "note: Because the isinstance() function is aware of inheritance, it is the preferred way to check the type of any Python object."
   ]
  },
  {
   "cell_type": "code",
   "execution_count": null,
   "id": "0138db2e",
   "metadata": {},
   "outputs": [],
   "source": [
    "\n",
    "# check instance\n",
    "def checkinstance(s, l):\n",
    "    \n",
    "    if isinstance(s, int): \n",
    "        s+= 1 \n",
    "        \n",
    "    if isinstance(l, list): \n",
    "        l.append(\"firstItem\")"
   ]
  },
  {
   "cell_type": "markdown",
   "id": "12b031fa",
   "metadata": {},
   "source": [
    "### Reference Counting and Garbage Collection \n",
    "All objects are reference-counted. An object’s reference count is increased whenever it’s assigned to a new name or placed in a container such as a list, tuple, or dictionary, as shown here:\n"
   ]
  },
  {
   "cell_type": "code",
   "execution_count": null,
   "id": "de03eb09",
   "metadata": {},
   "outputs": [],
   "source": [
    "a=37  # create an object a with value 37\n",
    "b=a   # increases the reference count on 37\n",
    "c=[]\n",
    "c.append(b) # increases the reference count on 37\n",
    "\n",
    "c"
   ]
  },
  {
   "cell_type": "markdown",
   "id": "96546c8e",
   "metadata": {},
   "source": [
    "This example creates a single object containing the value 37. a is merely a name that refers to the newly created object. When b is assigned a, b becomes a new name for the same object and the object’s reference count increases. Likewise, when you place b into a list, the object’s reference count increases again. Throughout the example, only one object contains 37. All other operations are simply creating new references to the object.\n"
   ]
  },
  {
   "cell_type": "markdown",
   "id": "4da007dd",
   "metadata": {},
   "source": [
    "An object’s reference count is decreased by the del statement or whenever a reference goes out of scope (or is reassigned). Here’s an example:"
   ]
  },
  {
   "cell_type": "code",
   "execution_count": null,
   "id": "c9ec26e3",
   "metadata": {},
   "outputs": [],
   "source": [
    "del a       # decreases the reference count on 37\n",
    "b=42        # decreases the reference count on 37\n",
    "c[0]=2.0    # decreases the reference count on 37\n"
   ]
  },
  {
   "cell_type": "markdown",
   "id": "8a006c1d",
   "metadata": {},
   "source": [
    "The current reference count of an object can be obtained using the sys.getrefcount() function. For example:"
   ]
  },
  {
   "cell_type": "code",
   "execution_count": null,
   "id": "25243a32",
   "metadata": {},
   "outputs": [],
   "source": [
    "a=37\n",
    "import sys\n",
    "sys.getrefcount(a)"
   ]
  },
  {
   "cell_type": "markdown",
   "id": "5b431087",
   "metadata": {},
   "source": [
    "In many cases, the reference count is much higher than you might guess. For immutable data such as numbers and strings, the interpreter aggressively shares objects between different parts of the program in order to conserve memory. When an object’s reference count reaches zero, it is garbage-collected. However, in some cases a circular dependency may exist among a collection of objects that are no longer in use. Here’s an example:"
   ]
  },
  {
   "cell_type": "code",
   "execution_count": null,
   "id": "7624dda3",
   "metadata": {},
   "outputs": [],
   "source": [
    "a={}\n",
    "b={}\n",
    "a['b']=b  # a contains reference b\n",
    "b['a']=a   # b contains reference a\n",
    "\n",
    "del a\n",
    "del b"
   ]
  },
  {
   "cell_type": "markdown",
   "id": "92ae9f43",
   "metadata": {},
   "source": [
    "In this example, the del statements decrease the reference count of a and b and destroy the names used to refer to the underlying objects. However, because each object contains a reference to the other, the reference count doesn’t drop to zero and the objects remain allocated (resulting in a memory leak). To address this problem, the interpreter periodically executes a cycle detector that searches for cycles of inaccessible objects and deletes them. The cycle-detection algorithm runs periodically as the interpreter allocates more and more memory during execution. The exact behavior can be fine-tuned and controlled using functions in the gc module (see Chapter 13, “Python Runtime Services”).\n"
   ]
  },
  {
   "cell_type": "markdown",
   "id": "ab3fe3a5",
   "metadata": {},
   "source": [
    "### References and Copies \n",
    "When a program makes an assignment such as a = b, a new reference to b is created. \n",
    "For immutable objects such as numbers and strings, this assignment effectively creates a copy of b. However, the behavior is quite different for mutable objects such as lists and dictionaries. Here’s an example: \n",
    "\n"
   ]
  },
  {
   "cell_type": "markdown",
   "id": "b7d311f6",
   "metadata": {},
   "source": [
    "Because a and b refer to the same object in this example, a change made to one of the variables is reflected in the other. To avoid this, you have to create a copy of an object rather than a new reference. \n",
    "\n",
    "Two types of copy operations are applied to container objects such as lists and dictionaries: a shallow copy and a deep copy. A shallow copy creates a new object but populates populates it with references to the items contained in the original object. Here’s an example:"
   ]
  },
  {
   "cell_type": "code",
   "execution_count": null,
   "id": "d2212b23",
   "metadata": {},
   "outputs": [],
   "source": [
    "a = [1, 3,[2,4]]\n",
    "b = list(a)                          # create shallow copy of a\n",
    "b is a\n",
    "\"false\"\n",
    "\n",
    "b.append(100)                        # append element to b\n",
    "b\n",
    "a\n",
    "\n",
    "b[2][0] = -100                       # change an element in b\n",
    "a                                    # notice how a also changed"
   ]
  },
  {
   "cell_type": "markdown",
   "id": "5343e3a3",
   "metadata": {},
   "source": [
    "In this case, a and b are separate list objects, but the elements they contain are shared. Therefore, a modification to one of the elements of a also modifies an element of b, as shown. \n",
    "\n",
    "A deep copy creates a new object and recursively copies all the objects it contains. There is no built-in operation to create deep copies of objects. However, the copy.deepcopy() function in the standard library can be used, as shown in the following example:"
   ]
  },
  {
   "cell_type": "code",
   "execution_count": null,
   "id": "b5f28607",
   "metadata": {},
   "outputs": [],
   "source": [
    "import copy\n",
    "a=[1, 3,[2,4]]\n",
    "b = copy.deepcopy(a)\n",
    "b[2][0] = -100\n",
    "\n",
    "print(b)\n",
    "print(a)         # notice a is unchanged"
   ]
  },
  {
   "cell_type": "markdown",
   "id": "18c3ebb9",
   "metadata": {},
   "source": [
    "#### String and Formatting"
   ]
  },
  {
   "cell_type": "code",
   "execution_count": null,
   "id": "66fc2c5e",
   "metadata": {},
   "outputs": [],
   "source": [
    "'This is a literal string' \n",
    "\"This is another string\" "
   ]
  },
  {
   "cell_type": "code",
   "execution_count": null,
   "id": "1cee27ee",
   "metadata": {},
   "outputs": [],
   "source": [
    "The two different kinds of quotes function identically; having both allows you to include one \n",
    "kind of quote inside of a string specified with the other kind without needing to escape them \n",
    "with the backslash character (/): "
   ]
  },
  {
   "cell_type": "code",
   "execution_count": null,
   "id": "564142c2",
   "metadata": {
    "scrolled": false
   },
   "outputs": [],
   "source": [
    "'I /' m a Python fanatic'         # a quote can be escaped \n",
    "\"I'm a Python fanatic\"         # this way is more readable "
   ]
  },
  {
   "cell_type": "markdown",
   "id": "3241cd72",
   "metadata": {},
   "source": [
    "All other things being equal, using single quotes to denote string literals is a more common Python style. To have a string literal span multiple physical lines, you can use a backslash as the last character of a line to indicate that the next line is a continuation: "
   ]
  },
  {
   "cell_type": "code",
   "execution_count": null,
   "id": "7d5bf4a4",
   "metadata": {},
   "outputs": [],
   "source": [
    "\" A not very long string /            \n",
    "that spans two lines \"                   # comment not allowed on previous line"
   ]
  },
  {
   "cell_type": "code",
   "execution_count": null,
   "id": "069b7ffc",
   "metadata": {},
   "outputs": [],
   "source": [
    "# To make the string output on two lines, you can embed a newline (/n) in the string: \n",
    " \" A not very long string /n /\n",
    "   that prints on two lines \"               # comment not allowed on previous line"
   ]
  },
  {
   "cell_type": "markdown",
   "id": "26e4d002",
   "metadata": {},
   "source": [
    "A better approach is to use a triple-quoted string, which is enclosed by matching triplets of quote characters (''' or \"\"\"):"
   ]
  },
  {
   "cell_type": "code",
   "execution_count": null,
   "id": "317c2930",
   "metadata": {},
   "outputs": [],
   "source": [
    " \"\"\"An even bigger \n",
    "string that \n",
    "spans three lines\"\"\"     # comments not allowed on previous lines "
   ]
  },
  {
   "cell_type": "markdown",
   "id": "bdc62a9e",
   "metadata": {},
   "source": [
    "Strings Escape sequence with Backslash (/): The backslash character starts an escape sequence, which lets you introduce any character in either kind of string. Python’s string escape sequences are listed in Table.\n"
   ]
  },
  {
   "cell_type": "markdown",
   "id": "703f9b62",
   "metadata": {},
   "source": [
    "Strings Escape sequence with Backslash (/): The backslash character starts an escape sequence, which lets you introduce any character in either kind of string. Python’s string escape sequences are listed in Table."
   ]
  },
  {
   "cell_type": "markdown",
   "id": "4a659068",
   "metadata": {},
   "source": [
    "Unicode string literals: have the same syntax as other string literals, with a u or U immediately before the leading quote. \n",
    " "
   ]
  },
  {
   "cell_type": "code",
   "execution_count": null,
   "id": "4100debb",
   "metadata": {},
   "outputs": [],
   "source": [
    "U'Make me a unicode literal'                # "
   ]
  },
  {
   "cell_type": "markdown",
   "id": "e893114f",
   "metadata": {},
   "source": [
    "Unicode string literals can use /u followed by four hex digits to denote Unicode characters and can include the escape sequences listed in Table   4-1. Unicode literals can also include the escape sequence /N{name}, where name is a standard Unicode name, as listed at http:// www.unicode.org/ charts/. For example, /N{ Copyright Sign} indicates a Unicode copyright sign character (©). \n",
    "Raw Unicode string literals start with ur, not ru. Note that raw strings are not a different type from ordinary strings: raw strings are just an alternative syntax for literals of the usual two string types, plain (a.k.a. byte strings) and Unicode. \n"
   ]
  },
  {
   "cell_type": "code",
   "execution_count": 10,
   "id": "0422177e",
   "metadata": {},
   "outputs": [
    {
     "data": {
      "text/plain": [
       "' supercalifragilisticexpialidocious1'"
      ]
     },
     "execution_count": 10,
     "metadata": {},
     "output_type": "execute_result"
    }
   ],
   "source": [
    "marypop1 = (' supercalifragilistic'          # Open parenthesis -> logical line continues \n",
    "'expialidocious1')                            # Indentation ignored in continuation \n",
    "                                  # The string assigned to marypop1 is a single word of 34 characters.\n",
    "marypop1\n"
   ]
  },
  {
   "cell_type": "code",
   "execution_count": 11,
   "id": "31c89cf8",
   "metadata": {},
   "outputs": [
    {
     "data": {
      "text/plain": [
       "' supercalifragilisticexpialidocious2'"
      ]
     },
     "execution_count": 11,
     "metadata": {},
     "output_type": "execute_result"
    }
   ],
   "source": [
    "# The string assigned to marypop2 is a single Unicode word of 34 characters.\n",
    " \n",
    "marypop2 = (' supercalifragilistic'            \n",
    "U'expialidocious2')\n",
    " \n",
    "marypop2\n"
   ]
  },
  {
   "cell_type": "markdown",
   "id": "c71abdfa",
   "metadata": {},
   "source": [
    "##### docstring()\n",
    "Python docstrings are the string literals that appear right after the definition of a function, method, class, or module. \n",
    "\n",
    "Whenever string literals are present just after the definition of a function, module, class or method, they are associated with the object as their __doc__ attribute. We can later use this attribute to retrieve this docstring."
   ]
  },
  {
   "cell_type": "code",
   "execution_count": 12,
   "id": "7806874e",
   "metadata": {},
   "outputs": [
    {
     "name": "stdout",
     "output_type": "stream",
     "text": [
      "Takes in a number n, returns the square of n\n"
     ]
    }
   ],
   "source": [
    "# Example 1: Docstrings\n",
    "def square(n):\n",
    "    '''Takes in a number n, returns the square of n'''\n",
    "    return n**2\n",
    "\n",
    "print(square.__doc__)"
   ]
  },
  {
   "cell_type": "markdown",
   "id": "475c0e16",
   "metadata": {},
   "source": [
    "Inside the triple quotation marks is the docstring of the function square() as it appears right after its definition.\n",
    "Note: We can also use triple \"\"\" quotations to create docstrings."
   ]
  },
  {
   "cell_type": "code",
   "execution_count": null,
   "id": "c1e64337",
   "metadata": {},
   "outputs": [],
   "source": [
    "# Docstrings of Python module\n",
    "\n",
    "import pickle\n",
    "print(pickle.__doc__)"
   ]
  },
  {
   "cell_type": "code",
   "execution_count": null,
   "id": "2598c1c7",
   "metadata": {},
   "outputs": [],
   "source": [
    "# Docstrings for Python functions\n",
    "def add_binary(a, b):\n",
    "    '''\n",
    "    Returns the sum of two decimal numbers in binary digits.\n",
    "\n",
    "            Parameters:\n",
    "                    a (int): A decimal integer\n",
    "                    b (int): Another decimal integer\n",
    "\n",
    "            Returns:\n",
    "                    binary_sum (str): Binary string of the sum of a and b\n",
    "    '''\n",
    "    binary_sum = bin(a+b)[2:]\n",
    "    return binary_sum\n",
    "\n",
    "\n",
    "print(add_binary.__doc__)"
   ]
  },
  {
   "cell_type": "markdown",
   "id": "06b7b754",
   "metadata": {},
   "source": [
    "Docstrings for Python class\n",
    "Suppose we have a Person.py file with the following code:"
   ]
  },
  {
   "cell_type": "code",
   "execution_count": null,
   "id": "85623a5c",
   "metadata": {},
   "outputs": [],
   "source": [
    "\n",
    "class Person:\n",
    "    \"\"\"\n",
    "    A class to represent a person.\n",
    "\n",
    "    ...\n",
    "\n",
    "    Attributes\n",
    "    ----------\n",
    "    name : str\n",
    "        first name of the person\n",
    "    surname : str\n",
    "        family name of the person\n",
    "    age : int\n",
    "        age of the person\n",
    "\n",
    "    Methods\n",
    "    -------\n",
    "    info(additional=\"\"):\n",
    "        Prints the person's name and age.\n",
    "    \"\"\"\n",
    "\n",
    "    def __init__(self, name, surname, age):\n",
    "        \"\"\"\n",
    "        Constructs all the necessary attributes for the person object.\n",
    "\n",
    "        Parameters\n",
    "        ----------\n",
    "            name : str\n",
    "                first name of the person\n",
    "            surname : str\n",
    "                family name of the person\n",
    "            age : int\n",
    "                age of the person\n",
    "        \"\"\"\n",
    "\n",
    "        self.name = name\n",
    "        self.surname = surname\n",
    "        self.age = age\n",
    "\n",
    "    def info(self, additional=\"\"):\n",
    "        \"\"\"\n",
    "        Prints the person's name and age.\n",
    "\n",
    "        If the argument 'additional' is passed, then it is appended after the main info.\n",
    "\n",
    "        Parameters\n",
    "        ----------\n",
    "        additional : str, optional\n",
    "            More info to be displayed (default is None)\n",
    "\n",
    "        Returns\n",
    "        -------\n",
    "        None\n",
    "        \"\"\"\n",
    "\n",
    "        print(f'My name is {self.name} {self.surname}. I am {self.age} years old.' + additional)\n"
   ]
  },
  {
   "cell_type": "markdown",
   "id": "e761be5b",
   "metadata": {},
   "source": [
    "Here, we can use the following code to access only the docstrings of the Person class:"
   ]
  },
  {
   "cell_type": "code",
   "execution_count": null,
   "id": "38b444ea",
   "metadata": {},
   "outputs": [],
   "source": [
    "print(Person.__doc__)\n"
   ]
  },
  {
   "cell_type": "code",
   "execution_count": null,
   "id": "aefe80bb",
   "metadata": {},
   "outputs": [],
   "source": [
    "Using the help() Function for Docstrings\n",
    "We can also use the help() function to read the docstrings associated with various objects."
   ]
  },
  {
   "cell_type": "code",
   "execution_count": null,
   "id": "6ff3ed04",
   "metadata": {},
   "outputs": [],
   "source": [
    "help(Person)"
   ]
  },
  {
   "cell_type": "markdown",
   "id": "ffcbdccb",
   "metadata": {},
   "source": [
    "the help() function retrieves the docstrings of the Person class along with the methods associated with that class."
   ]
  },
  {
   "cell_type": "markdown",
   "id": "98993be2",
   "metadata": {},
   "source": [
    "\n",
    "\n",
    "#### formatting\n",
    "\n",
    " ##### \"Old Style” String Formatting (% Operator)\n",
    "\n",
    "\" %s \" format specifier here to tell Python where to substitute the value of name, represented as a string\n",
    "\n",
    "\" %x \" format specifier to convert an int value to a string and to represent it as a hexadecimal number"
   ]
  },
  {
   "cell_type": "code",
   "execution_count": 14,
   "id": "ce6e32b5",
   "metadata": {},
   "outputs": [
    {
     "data": {
      "text/plain": [
       "'badc0ffee'"
      ]
     },
     "execution_count": 14,
     "metadata": {},
     "output_type": "execute_result"
    }
   ],
   "source": [
    "errno = 50159747054\n",
    "name = 'Bob'\n",
    "\n",
    "'Hello, %s' % name\n",
    "\n",
    "'%x' % errno"
   ]
  },
  {
   "cell_type": "code",
   "execution_count": null,
   "id": "35b68da4",
   "metadata": {},
   "outputs": [],
   "source": [
    "multiple substitutions in a single string. Because the % operator takes only one argument, \n",
    "you need to wrap the right-hand side in a tuple, like so:"
   ]
  },
  {
   "cell_type": "code",
   "execution_count": null,
   "id": "29747478",
   "metadata": {},
   "outputs": [],
   "source": [
    "'Hey %s, there is a 0x%x error!' % (name, errno)"
   ]
  },
  {
   "cell_type": "markdown",
   "id": "634c6a3d",
   "metadata": {},
   "source": [
    "It’s also possible to refer to variable substitutions by name in your format string, if you pass a mapping to the % operator:"
   ]
  },
  {
   "cell_type": "code",
   "execution_count": null,
   "id": "4ebadedf",
   "metadata": {},
   "outputs": [],
   "source": [
    "'Hey %(name)s, there is a 0x%(errno)x error!' % {\n",
    "     \"name\": name, \"errno\": errno }"
   ]
  },
  {
   "cell_type": "markdown",
   "id": "fe184ccc",
   "metadata": {},
   "source": [
    "This makes your format strings easier to maintain and easier to modify in the future. You don’t have to worry about making sure the order you’re passing in the values matches up with the order in which the values are referenced in the format string. Of course, the downside is that this technique requires a little more typing.\n",
    "\n",
    "“new style” formatting in Python 3, which we’re going to talk about next."
   ]
  },
  {
   "cell_type": "markdown",
   "id": "3dcd29c9",
   "metadata": {},
   "source": [
    "##### New Style” String Formatting (str.format)\n",
    "You can use format() to do simple positional formatting, just like you could with “old style” formatting:\n"
   ]
  },
  {
   "cell_type": "code",
   "execution_count": 15,
   "id": "d4f2c546",
   "metadata": {},
   "outputs": [
    {
     "data": {
      "text/plain": [
       "'Hello, Bob'"
      ]
     },
     "execution_count": 15,
     "metadata": {},
     "output_type": "execute_result"
    }
   ],
   "source": [
    "errno = 50159747054\n",
    "name = 'Bob'\n",
    "\n",
    "'Hello, {}'.format(name)"
   ]
  },
  {
   "cell_type": "code",
   "execution_count": 16,
   "id": "cf0a4897",
   "metadata": {},
   "outputs": [
    {
     "data": {
      "text/plain": [
       "'Hey Bob, there is a 0xbadc0ffee error!'"
      ]
     },
     "execution_count": 16,
     "metadata": {},
     "output_type": "execute_result"
    }
   ],
   "source": [
    "# re-arranging the order of display without changing the arguments passed to format():\n",
    "\n",
    "'Hey {name}, there is a 0x{errno:x} error!'.format(\n",
    "        name=name, errno=errno)"
   ]
  },
  {
   "cell_type": "markdown",
   "id": "e86f3eaf",
   "metadata": {},
   "source": [
    "\n",
    "\n",
    "##### String Interpolation / f-Strings (Python 3.6+)\n",
    "This new way of formatting strings lets you use embedded Python expressions inside string constants. Here’s a simple example to give you a feel for the feature:"
   ]
  },
  {
   "cell_type": "code",
   "execution_count": null,
   "id": "1091ef76",
   "metadata": {},
   "outputs": [],
   "source": [
    "f'Hello, {name}!'"
   ]
  },
  {
   "cell_type": "markdown",
   "id": "91c837a7",
   "metadata": {},
   "source": [
    "As you can see, this prefixes the string constant with the letter “f“—hence the name “f-strings.” This new formatting syntax is powerful. Because you can embed arbitrary Python expressions, you can even do inline arithmetic with it. Check out this example:"
   ]
  },
  {
   "cell_type": "code",
   "execution_count": null,
   "id": "af559061",
   "metadata": {},
   "outputs": [],
   "source": [
    "a = 5\n",
    "b = 10\n",
    "\n",
    "f'Five plus ten is {a + b} and not {2 * (a + b)}.'"
   ]
  },
  {
   "cell_type": "markdown",
   "id": "7590f366",
   "metadata": {},
   "source": [
    "Formatted string literals are a Python parser feature that converts f-strings into a series of string constants and expressions. They then get joined up to build the final string.\n",
    "Imagine you had the following greet() function that contains an f-string:"
   ]
  },
  {
   "cell_type": "code",
   "execution_count": null,
   "id": "70fe2204",
   "metadata": {},
   "outputs": [],
   "source": [
    "def greet(name, question):\n",
    "     return f\"Hello, {name}! How's it {question}?\"\n",
    "\n",
    "greet('Bob', 'going')\n",
    "\"Hello, Bob! How's it going?\""
   ]
  },
  {
   "cell_type": "markdown",
   "id": "17ac4d25",
   "metadata": {},
   "source": [
    "When you disassemble the function and inspect what’s going on behind the scenes, you’ll see that the f-string in the function gets transformed into something similar to the following:"
   ]
  },
  {
   "cell_type": "code",
   "execution_count": null,
   "id": "6d14ad66",
   "metadata": {},
   "outputs": [],
   "source": [
    "def greet(name, question):\n",
    "    return \"Hello, \" + name + \"! How's it \" + question + \"?\"\n"
   ]
  },
  {
   "cell_type": "markdown",
   "id": "76a024fe",
   "metadata": {},
   "source": [
    "##### Template Strings (Standard Library)\n",
    "Here’s one more tool for string formatting in Python: template strings. It’s a simpler and less powerful mechanism, but in some cases this might be exactly what you’re looking for.\n",
    "\n",
    "Let’s take a look at a simple greeting example:"
   ]
  },
  {
   "cell_type": "code",
   "execution_count": null,
   "id": "1837850a",
   "metadata": {},
   "outputs": [],
   "source": [
    "from string import Template\n",
    "t = Template('Hey, $name!')\n",
    "t.substitute(name=name)"
   ]
  },
  {
   "cell_type": "markdown",
   "id": "f2e2ca89",
   "metadata": {},
   "source": [
    "You see here that we need to import the Template class from Python’s built-in string module. Template strings are not a core language feature but they’re supplied by the string module in the standard library.\n",
    "\n",
    "Another difference is that template strings don’t allow format specifiers. So in order to get the previous error string example to work, you’ll need to manually transform the int error number into a hex-string:\n"
   ]
  },
  {
   "cell_type": "code",
   "execution_count": null,
   "id": "6ce28649",
   "metadata": {},
   "outputs": [],
   "source": [
    "temp_string = 'Hey $name, there is a $error error!'\n",
    "Template(templ_string).substitute(\n",
    "     name=name, error=hex(errno))"
   ]
  },
  {
   "cell_type": "markdown",
   "id": "0cb75a34",
   "metadata": {},
   "source": [
    "That worked great.\n",
    "\n",
    "So when should you use template strings in your Python programs? In my opinion, the best time to use template strings is when you’re handling formatted strings generated by users of your program. Due to their reduced complexity, template strings are a safer choice.\n",
    "\n",
    "The more complex formatting mini-languages of the other string formatting techniques might introduce security vulnerabilities to your programs. For example, it’s possible for format strings to access arbitrary variables in your program.\n",
    "\n",
    "That means, if a malicious user can supply a format string, they can potentially leak secret keys and other sensitive information! Here’s a simple proof of concept of how this attack might be used against your code:\n"
   ]
  },
  {
   "cell_type": "code",
   "execution_count": null,
   "id": "98e5c3e1",
   "metadata": {},
   "outputs": [],
   "source": [
    " # This is our super secret key:\n",
    " SECRET = 'this-is-a-secret'\n",
    "\n",
    " class Error:\n",
    "      def __init__(self):\n",
    "          pass\n",
    "\n",
    " # A malicious user can craft a format string that\n",
    " # can read data from the global namespace:\n",
    " user_input = '{error.__init__.__globals__[SECRET]}'\n",
    "\n",
    " # This allows them to exfiltrate sensitive information,\n",
    " # like the secret key:\n",
    " err = Error()\n",
    " user_input.format(error=err)\n",
    "'this-is-a-secret'"
   ]
  },
  {
   "cell_type": "markdown",
   "id": "ef06b11d",
   "metadata": {},
   "source": [
    "See how a hypothetical attacker was able to extract our secret string by accessing the __globals__ dictionary from a malicious format string? Scary, huh? Template strings close this attack vector. This makes them a safer choice if you’re handling format strings generated from user input:"
   ]
  },
  {
   "cell_type": "code",
   "execution_count": null,
   "id": "91d81f1c",
   "metadata": {},
   "outputs": [],
   "source": [
    "user_input = '${error.__init__.__globals__[SECRET]}'\n",
    "Template(user_input).substitute(error=err)\n",
    "ValueError:\n",
    "    \n",
    "\"Invalid placeholder in string: line 1, col 1\""
   ]
  },
  {
   "cell_type": "markdown",
   "id": "eddd52bc",
   "metadata": {},
   "source": [
    "\n",
    "\n",
    "### The file  Open() function\n",
    "\n",
    "open() opens a file. Most of the time, we see it being used like this:"
   ]
  },
  {
   "cell_type": "code",
   "execution_count": null,
   "id": "ff853a06",
   "metadata": {},
   "outputs": [],
   "source": [
    "f = open('photo.jpg', 'r+')\n",
    "jpgdata = f.read()\n",
    "f.close()"
   ]
  },
  {
   "cell_type": "markdown",
   "id": "ac4eb154",
   "metadata": {},
   "source": [
    "The return value from open() is a file handle, given out from the operating system to your Python application. You will want to return this file handle once you’re finished with the file, if only so that your application won’t reach the limit of the number of open file handles it can have at once.\n",
    "\n",
    "Explicitly calling close() closes the file handle, but only if the read was successful. If there is any error just after f = open(...), f.close() will not be called (depending on the Python interpreter, the file handle may still be returned, but that’s another story). To make sure that the file gets closed whether an exception occurs or not, pack it into a with statement:"
   ]
  },
  {
   "cell_type": "markdown",
   "id": "e21e35d9",
   "metadata": {},
   "source": [
    "The syntax for using open() with the as keyword is as follows:\n",
    "\n",
    "    with open(file_path, mode) as file:\n",
    "        # Perform operations on the file\n",
    "    \n",
    "Here, file_path is the path to the file you want to open, and mode specifies the purpose for opening the file (e.g., read, write, append, etc.). The with statement ensures that the file is properly closed after you're done working with it, even if an exception occurs."
   ]
  },
  {
   "cell_type": "code",
   "execution_count": null,
   "id": "a672d307",
   "metadata": {},
   "outputs": [],
   "source": [
    "with open('temp\\photo.jpg', 'r+') as f:\n",
    "    jpgdata = f.read()"
   ]
  },
  {
   "cell_type": "code",
   "execution_count": null,
   "id": "3a93c9a5",
   "metadata": {},
   "outputs": [],
   "source": [
    "file_path = 'path/to/file.txt'\n",
    "with open(file_path, 'r') as file:\n",
    "    contents = file.read()\n",
    "    print(contents)"
   ]
  },
  {
   "cell_type": "code",
   "execution_count": null,
   "id": "8cc9ba54",
   "metadata": {},
   "outputs": [],
   "source": [
    "with open('path/to/new_file.txt', 'w') as file:\n",
    "    file.write('Hello, world!')"
   ]
  },
  {
   "cell_type": "markdown",
   "id": "8d275af5",
   "metadata": {},
   "source": [
    "The first argument of open is the filename. The second one (the mode) determines how the file gets opened.\n",
    "\n",
    "If you want to read the file, pass in r\n",
    "If you want to read and write the file, pass in r+\n",
    "If you want to overwrite the file, pass in w\n",
    "If you want to append to the file, pass in a\n",
    "\n",
    "##### file format\n",
    "In general, if the format is written by humans, it tends to be text mode. \n",
    "jpg image files are not generally written by humans (and are indeed not readable by humans), and you should therefore open them in binary mode by adding a b to the mode string (if you’re following the opening example, the correct mode would be rb). \n",
    "\n",
    "If you open something in text mode (i.e. add a t, or nothing apart from r/r+/w/a), you must also know which encoding to use. For a computer, all files are just bytes, not characters.\n",
    "\n",
    "\n",
    "##### Encoding\n",
    "Encoding is the way to instruct computers about how the numbers should be stored as bytes in memory. utf-8 is a terrific one and is supported by major browsers and programming languages. When you write a file, you can just pick the encoding to your liking (or the liking of the program that will eventually read your file).\n",
    "\n",
    "How do you find out which encoding a file you’re reading was written in? Well, unfortunately, there is no foolproof way to detect the encoding - the same bytes can represent different, but equally valid characters in different encodings. Therefore, you must rely on metadata (for example, in HTTP headers) to know the encoding. Increasingly, formats just define the encoding to be UTF-8.\n",
    "\n",
    "Armed with this knowledge, let’s write a program that reads a file, determines whether it’s JPG (hint: These files start with the bytes FF D8), and writes a text file that describe the input file.\n"
   ]
  },
  {
   "cell_type": "code",
   "execution_count": null,
   "id": "107184e7",
   "metadata": {},
   "outputs": [],
   "source": [
    "\n",
    "import io\n",
    "with open('photo.jpg', 'rb') as inf:\n",
    "    jpgdata = inf.read()\n",
    "\n",
    "if jpgdata.startswith(b'\\xff\\xd8'):\n",
    "    text = u'This is a JPEG file (%d bytes long)\\n'\n",
    "else:\n",
    "    text = u'This is a random file (%d bytes long)\\n'\n",
    "\n",
    "with io.open('summary.txt', 'w', encoding='utf-8') as outf:\n",
    "    outf.write(text % len(jpgdata))"
   ]
  },
  {
   "cell_type": "code",
   "execution_count": null,
   "id": "767f8436",
   "metadata": {},
   "outputs": [],
   "source": [
    "I am sure that now you will use open correctly!"
   ]
  }
 ],
 "metadata": {
  "kernelspec": {
   "display_name": "Python 3 (ipykernel)",
   "language": "python",
   "name": "python3"
  },
  "language_info": {
   "codemirror_mode": {
    "name": "ipython",
    "version": 3
   },
   "file_extension": ".py",
   "mimetype": "text/x-python",
   "name": "python",
   "nbconvert_exporter": "python",
   "pygments_lexer": "ipython3",
   "version": "3.9.7"
  }
 },
 "nbformat": 4,
 "nbformat_minor": 5
}
