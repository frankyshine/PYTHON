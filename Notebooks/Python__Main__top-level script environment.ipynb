{
 "cells": [
  {
   "cell_type": "markdown",
   "id": "f357aa61",
   "metadata": {},
   "source": [
    "### __Main__ top-level script environment\n",
    "\n",
    "What is it\n",
    "__main__  is the name of the scope in which top-level code executes. A module’s name is set equal to  __main__ when read from standard input, a script, or from an interactive prompt.\n",
    "\n",
    "A module can discover whether it is running in the main scope by checking its own __name__, which allows a common idiom for conditionally executing code in a module. When it is run as a script or with python -m but not when it is imported:\n"
   ]
  },
  {
   "cell_type": "code",
   "execution_count": null,
   "id": "c18cf1ee",
   "metadata": {},
   "outputs": [],
   "source": [
    "if __name__ == \"__main__\":\n",
    "     # execute only if run as a script\n",
    "     main()\n",
    "\n",
    "\"\"\"For a package, the same effect can be achieved by including a main.py module, the contents of \n",
    "which will be executed when the module is run with -m.\n",
    "\n",
    "For example, we are developing a script designed to be used as a module, we should do:\n",
    "\"\"\"\n",
    "\n",
    " def add(a, b):\n",
    "     return a+b\n",
    "\n",
    " if __name__ == \"__main__\":\n",
    "     add(3, 5)\n"
   ]
  },
  {
   "cell_type": "markdown",
   "id": "b066d1f2",
   "metadata": {},
   "source": [
    "\n",
    "Advantages\n",
    "\n",
    "- Every Python module has it’s __name__ defined and if this is __main__, it implies that the module is run standalone by the user, and we can do corresponding appropriate actions.\n",
    "\n",
    "- If you import this script as a module in another script, the name is set to the name of the script/module.\n",
    "\n",
    "- Python files can act as either reusable modules, or as standalone programs.\n",
    "\n",
    "- if __name__ == “main”: is used to execute some code only if the file run directly, and is not being imported."
   ]
  }
 ],
 "metadata": {
  "kernelspec": {
   "display_name": "Python 3 (ipykernel)",
   "language": "python",
   "name": "python3"
  },
  "language_info": {
   "codemirror_mode": {
    "name": "ipython",
    "version": 3
   },
   "file_extension": ".py",
   "mimetype": "text/x-python",
   "name": "python",
   "nbconvert_exporter": "python",
   "pygments_lexer": "ipython3",
   "version": "3.9.7"
  }
 },
 "nbformat": 4,
 "nbformat_minor": 5
}
