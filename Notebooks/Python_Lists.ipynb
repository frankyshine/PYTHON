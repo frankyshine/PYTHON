{
 "cells": [
  {
   "cell_type": "markdown",
   "id": "1af43167",
   "metadata": {},
   "source": [
    "### Python Lists\n",
    "The list type is a container that holds a number of other objects, in a given order. The list type implements the sequence protocol, and also allows you to add and remove objects from the sequence.\n",
    "\n",
    "Creating Lists\n",
    "\n",
    "List display\n",
    "To create a list, put a number of expressions in square brackets:\n",
    "\n",
    "    L = []\n",
    "    L = [expression, ...]\n",
    "    \n",
    "This construct is known as a “list display”. The expressions can be anything; you can put all kinds of objects in lists, including other lists, and multiple references to a single object."
   ]
  },
  {
   "cell_type": "code",
   "execution_count": null,
   "id": "3d2835aa",
   "metadata": {},
   "outputs": [],
   "source": [
    "x = 4\n",
    "y = 5\n",
    "L = [1, 3, 6, 'yellow', [1, 1, 200], 4, 5, \"the green one\", y, x + y]\n",
    "\n",
    "L"
   ]
  },
  {
   "cell_type": "markdown",
   "id": "25be870a",
   "metadata": {},
   "source": [
    "#### List Comprehensions\n",
    "\n",
    "Python also supports computed lists, called “list comprehensions”. In its simplest form, a list comprehension has the following syntax:\n",
    "   \n",
    "    L = [expression for variable in sequence]\n",
    "    \n",
    "    where the expression is evaluated once, for every item in the sequence\n",
    "eg."
   ]
  },
  {
   "cell_type": "code",
   "execution_count": null,
   "id": "0ed97695",
   "metadata": {},
   "outputs": [],
   "source": [
    "input = [1, 2, 3, 4, 5]\n",
    "output = [i * 3 for i in input]\n",
    "\n",
    "output\n",
    "\n"
   ]
  },
  {
   "cell_type": "markdown",
   "id": "0132efea",
   "metadata": {},
   "source": [
    "#### List type object\n",
    "You can also use the built-in list type object to create lists:"
   ]
  },
  {
   "cell_type": "code",
   "execution_count": null,
   "id": "68e07166",
   "metadata": {},
   "outputs": [],
   "source": [
    "L = list() # empty list\n",
    "L = list(sequence)\n",
    "L = list(expression for variable in sequence) #List comprehension\n",
    " "
   ]
  },
  {
   "cell_type": "markdown",
   "id": "6368e35f",
   "metadata": {},
   "source": [
    "The sequence can be any kind of sequence object or iterable, including tuples and generators. If you pass in another list, the list function makes a copy.\n",
    " \n",
    "Note that Python creates a single new list every time you execute the [ ] expression. No more, no less. And Python never creates a new list if you assign a list to a variable.\n",
    " "
   ]
  },
  {
   "cell_type": "code",
   "execution_count": null,
   "id": "c8b1603b",
   "metadata": {},
   "outputs": [],
   "source": [
    "A = B = [] # both names will point to the same list\n",
    "\n",
    "A = []\n",
    "B = A # both names will point to the same list\n",
    " \n",
    "A = []; B = [] # independent lists\n",
    " "
   ]
  },
  {
   "cell_type": "markdown",
   "id": "f4722018",
   "metadata": {},
   "source": [
    "#### Accessing Lists\n",
    "Lists implement the standard sequence interface; len(L) returns the number of items in the list, L[i] returns the item at index i (the first item has index 0), andL[i:j] returns a new list, containing the objects between i and j.\n",
    "\n",
    "    n = len(L)\n",
    "    item = L[index]\n",
    "    seq = L[start:stop]  #slicing"
   ]
  },
  {
   "cell_type": "code",
   "execution_count": null,
   "id": "2d8d942c",
   "metadata": {},
   "outputs": [],
   "source": [
    "# Example:\n",
    " \n",
    "L = [1, 3, 6, 'yellow', [1, 1, 200], 4, 5, \"the green one\", 7, 10 ]\n",
    "listLenght=len(L)\n",
    "listSecondItem =L[1]\n",
    "seqWithinList =L[3:8]\n",
    "\n",
    "print(listLenght)\n",
    "print(listSecondItem)\n",
    "print(seqWithinList)\n"
   ]
  },
  {
   "cell_type": "markdown",
   "id": "ef1a81ae",
   "metadata": {},
   "source": [
    "If you pass in a negative index, Python adds the length of the list to the index. L[-1] can be used to access the last item in a list. Therefore negating index accesses the list item from the end. L[-2] accesses the 2nd item from the end.\n"
   ]
  },
  {
   "cell_type": "code",
   "execution_count": null,
   "id": "9b25f663",
   "metadata": {},
   "outputs": [],
   "source": [
    "L[-2]           #2nd item from the end\n",
    "L[-len(L)]      #First item"
   ]
  },
  {
   "cell_type": "code",
   "execution_count": null,
   "id": "fca9444c",
   "metadata": {},
   "outputs": [],
   "source": [
    "# seq = L[start:stop:step]\n",
    " \n",
    "seq1 = L[::2]      # get every other item, starting with the first\n",
    "\n",
    "seq2 = L[0::2]      # same as seq1\n",
    "\n",
    "seq3 = L[0:-1:2]      # same as seq1\n",
    "\n",
    "seq4 = L[1::2]     # get every other item, starting with the second\n",
    "    \n",
    "seq5 = L[1:5:2]     # get every other item, starting with the second\n",
    "\n",
    "print(seq1)\n",
    "print(seq2)\n",
    "print(seq3)\n",
    "print(seq4)\n",
    "print(seq5)\n"
   ]
  },
  {
   "cell_type": "code",
   "execution_count": null,
   "id": "69e98317",
   "metadata": {},
   "outputs": [],
   "source": [
    "#### Looping Over Lists \n",
    "\n",
    "The for-in statement makes it easy to loop over the items in a list:\n",
    "    "
   ]
  },
  {
   "cell_type": "code",
   "execution_count": null,
   "id": "4de5f373",
   "metadata": {},
   "outputs": [],
   "source": [
    "for item in L:\n",
    "    print (item)"
   ]
  },
  {
   "cell_type": "markdown",
   "id": "ed2afed7",
   "metadata": {},
   "source": [
    "If youn need both the index and the item, use the enumerate function:"
   ]
  },
  {
   "cell_type": "code",
   "execution_count": null,
   "id": "6c6e2101",
   "metadata": {},
   "outputs": [],
   "source": [
    "for index, item in enumerate(L):\n",
    "    print index, item\n"
   ]
  },
  {
   "cell_type": "code",
   "execution_count": null,
   "id": "c5197875",
   "metadata": {},
   "outputs": [],
   "source": [
    "for i, j in enumerate(L):\n",
    "    print(i, j)\n"
   ]
  },
  {
   "cell_type": "code",
   "execution_count": null,
   "id": "ea60a094",
   "metadata": {},
   "outputs": [],
   "source": [
    "If you need only the index, use range and len:\n",
    "    \n",
    "    for index in range(len(L)):\n",
    "        print index\n",
    " "
   ]
  },
  {
   "cell_type": "code",
   "execution_count": null,
   "id": "1918a484",
   "metadata": {},
   "outputs": [],
   "source": [
    "# eg:\n",
    "for listIndex in range(len(L)):\n",
    "    print(listIndex)        \n"
   ]
  },
  {
   "cell_type": "code",
   "execution_count": null,
   "id": "7ad3e3e7",
   "metadata": {},
   "outputs": [],
   "source": [
    "l = range(10)\n",
    "l"
   ]
  },
  {
   "cell_type": "markdown",
   "id": "1eacfd38",
   "metadata": {},
   "source": [
    "#### iterator protocol\n",
    "The list object supports the iterator protocol. To explicitly create an iterator, use the built-in iter function:\n"
   ]
  },
  {
   "cell_type": "code",
   "execution_count": null,
   "id": "87d6d565",
   "metadata": {},
   "outputs": [],
   "source": [
    "i = iter(L)\n",
    "\n",
    "print(next(i))   # fetch first value\n",
    "print(next(i))   # fetch second value\n",
    "print(next(i))  \n"
   ]
  },
  {
   "attachments": {},
   "cell_type": "markdown",
   "id": "b770b203",
   "metadata": {},
   "source": [
    "#### common list operations\n",
    "\n",
    "Python provides various shortcuts for common list operations. For example, if a list contains numbers, the built-in sum function gives you the sum:\n",
    "   "
   ]
  },
  {
   "cell_type": "code",
   "execution_count": null,
   "id": "507e3d33",
   "metadata": {},
   "outputs": [],
   "source": [
    "v = sum(L)\n",
    "total = sum(L, subtotal)\n",
    "average = float(sum(L)) / len(L)"
   ]
  },
  {
   "cell_type": "markdown",
   "id": "4244d6a7",
   "metadata": {},
   "source": [
    "If a list contains strings, you can combine the string into a single long string using the join string method:\n"
   ]
  },
  {
   "cell_type": "code",
   "execution_count": null,
   "id": "a83bbca2",
   "metadata": {},
   "outputs": [],
   "source": [
    "s = ''.join(L)"
   ]
  },
  {
   "cell_type": "markdown",
   "id": "e009055c",
   "metadata": {},
   "source": [
    "Python also provides built-in operations to search for items, and to sort the list. These operations are described below.\n"
   ]
  },
  {
   "cell_type": "markdown",
   "id": "1c566f81",
   "metadata": {},
   "source": [
    "Modifying Lists #\n",
    "The list type also allows you to assign to individual items or slices, and to delete them.\n",
    "    L[i] = obj \n",
    "    L[i:j] = sequence\n",
    "Note that operations that modify the list will modify it in place. This means that if you have multiple variables that point to the same list, all variables will be updated at the same time.\n",
    "    L = []\n",
    "    M = L\n",
    " \n",
    "    # modify both lists\n",
    "    L.append(obj)\n",
    "    \n",
    "To create a separate list, you can use slicing or the list function to quickly create a copy:\n",
    "   \n",
    "    L = []\n",
    "    M = L[:] # create a copy\n",
    " \n",
    "    # modify L only\n",
    "    L.append(obj)\n",
    "\n",
    "You can also add items to an existing sequence. The append method adds a single item to the end of the list, the extend method adds items from another list (or any sequence) to the end, and insert inserts an item at a given index, and move the remaining items to the right.\n",
    "    \n",
    "    L.append(item)\n",
    "    L.extend(sequence)\n",
    "    L.insert(index, item)\n",
    "    \n",
    "To insert items from another list or sequence at some other location, use slicing syntax:\n",
    "    L[index:index] = sequence\n",
    "\n",
    "You can also remove items. The del statement can be used to remove an individual item, or to remove all items identified by a slice. The pop method removes an individual item and returns it, while remove searches for an item, and removes the first matching item from the list.\n",
    "   \n",
    "    del L[i]\n",
    "    del L[i:j]\n",
    "    item = L.pop() # last item\n",
    "    item = L.pop(0) # first item\n",
    "    item = L.pop(index)\n",
    "    L.remove(item)\n",
    "    \n",
    "The del statement and the pop method does pretty much the same thing, except that pop returns the removed item.\n",
    "\n",
    "Finally, the list type allows you to quickly reverse the order of the list.\n",
    "    \n",
    "    L.reverse()\n",
    "    \n",
    "Reversing is fast, so temporarily reversing the list can often speed things up if you need to remove and insert a bunch of items at the beginning of the list:\n",
    "   \n",
    "   L.reverse()\n"
   ]
  },
  {
   "cell_type": "code",
   "execution_count": null,
   "id": "394fe999",
   "metadata": {},
   "outputs": [],
   "source": [
    "a = [66.25, 333, 333, 1, 1234.5]\n",
    "\n",
    "print (a.count(333), a.count(66.25), a.count('x'))\n",
    "\n",
    "a.insert(2, -1)      #insert at third position\n",
    "print(a)\n",
    "\n",
    "a.append(333)        # append to the end\n",
    "print(a)\n",
    "\n",
    "print (a.index(333))\n",
    "\n",
    "a.remove(333)\n",
    "print(a)\n",
    "\n",
    "a.reverse()\n",
    "print(a)\n",
    "\n",
    "a.sort()\n",
    "print(a)\n"
   ]
  },
  {
   "cell_type": "code",
   "execution_count": null,
   "id": "3f3ebf16",
   "metadata": {},
   "outputs": [],
   "source": [
    "for index, item in enumerate(L):\n",
    "    if L[index]=='yellow':\n",
    "         del L[index]\n",
    " \n",
    "\n",
    "for index, item in enumerate(L):\n",
    "    if not isinstance(item, int):\n",
    "        del L[index]\n",
    " "
   ]
  },
  {
   "cell_type": "markdown",
   "id": "baa69e8f",
   "metadata": {},
   "source": [
    "Note that the for-in statement maintains an internal index, which is incremented for each loop iteration. This means that if you modify the list you’re looping over, the indexes will get out of sync, and you may end up skipping over items, or process the same item multiple times. To work around this, you can loop over a copy of the list:\n",
    "    \n",
    "    for object in L[:]:\n",
    "        if not condition:\n",
    "            del L[index]\n",
    " \n",
    " The slice notation makes this especially convenient:\n",
    " "
   ]
  },
  {
   "cell_type": "code",
   "execution_count": null,
   "id": "eee492eb",
   "metadata": {},
   "outputs": [],
   "source": [
    "# Eg:\n",
    ">>> words = ['cat', 'window', 'defenestrate']\n",
    ">>> for item in words[:]:  # Loop over a slice copy of the entire list.\n",
    "...     if len(item) > 6:\n",
    "...         words.insert(0, item)\n",
    "...\n",
    ">>> words\n",
    "['defenestrate', 'cat', 'window', 'defenestrate']"
   ]
  },
  {
   "cell_type": "markdown",
   "id": "de0e4056",
   "metadata": {},
   "source": [
    "Alternatively, you can use create a new list, and append to it:\n",
    "   \n",
    "    out = []\n",
    "    for object in L:\n",
    "        if condition:\n",
    "            out.append(object)"
   ]
  },
  {
   "cell_type": "code",
   "execution_count": null,
   "id": "0df0749c",
   "metadata": {},
   "outputs": [],
   "source": [
    "# eg\n",
    " \n",
    "L = [1, 3, 6, 'yellow', [1, 1, 200], 4, 5, 'the green one', 5, 9]\n",
    "out = []    \n",
    "for item in L:\n",
    "    if not item == 'yellow':\n",
    "            out.append(item)\n",
    "out"
   ]
  },
  {
   "cell_type": "markdown",
   "id": "00979ec0",
   "metadata": {},
   "source": [
    "\n",
    "A common pattern is to apply a function to every item in a list, and replace the item with the return value from the function:\n",
    "    \n",
    "    for index, object in enumerate(L):\n",
    "        L[index] = function(object)\n",
    " \n",
    "    out = []\n",
    "    for object in L:\n",
    "        out.append(function(object))\n",
    " \n",
    " "
   ]
  },
  {
   "cell_type": "code",
   "execution_count": null,
   "id": "c46b4661",
   "metadata": {},
   "outputs": [],
   "source": [
    "# Egs:\n",
    "\n",
    "def MyFunction(x):\n",
    "return 2**x\n",
    " \n",
    "L =[1, 3, 6, 4, 5, 9]\n",
    "for index, item in enumerate(L):\n",
    "    L[index] = MyFunction(item)\n",
    "\n",
    "L\n",
    "\n",
    "out = []\n",
    "for item in L:\n",
    "    out.append(MyFunction(item))\n"
   ]
  },
  {
   "cell_type": "markdown",
   "id": "a19e9c39",
   "metadata": {},
   "source": [
    "The above can be better written using either the built-in map function, or as a list comprehension:\n",
    "   \n",
    "    Out = map(function, L)\n",
    "    \n",
    "    out = [function(object) for object in L]\n",
    " "
   ]
  },
  {
   "cell_type": "code",
   "execution_count": null,
   "id": "61425e5a",
   "metadata": {},
   "outputs": [],
   "source": [
    "# egs\n",
    "\n",
    "L =[1, 3, 6, 4, 5, 9]\n",
    "out1 = map(function, L)\n",
    "out1\n",
    "\n",
    " \n",
    "L =[1, 3, 6, 4, 5, 9]\n",
    "out2 = [MyFunction(item) for item in L]\n",
    "out2"
   ]
  },
  {
   "cell_type": "markdown",
   "id": "1a64cb2d",
   "metadata": {},
   "source": [
    "Again, if you need both the item and the index, use enumerate:\n",
    "    \n",
    "    out = [function(index, object) for index, object in enumerate(L)]\n",
    " \n",
    "For straightforward function calls, the map solution is more efficient, since the function object only needs to be fetched once. For other constructs (e.g. expressions or calls to object methods), you have to use a callback or a lambda to wrap the operation; in such cases, the list comprehension is more efficient, and usually also easier to read.\n",
    " "
   ]
  },
  {
   "cell_type": "markdown",
   "id": "ec3d552d",
   "metadata": {},
   "source": [
    "#### Lists as stack and queues  \n",
    " \n",
    "You can use the list type to implement simple data structures, such as stacks and queues.\n",
    "    \n",
    "    stack = []\n",
    "    stack.append(object) # push\n",
    "    object = stack.pop() # pop from end\n",
    "    \n",
    "    queue = []\n",
    "    queue.append(object) # push\n",
    "    object = queue.pop(0) # pop from beginning\n",
    " \n",
    "The list methods make it very easy to use a list as a stack, where the last element added is the first element retrieved (“last-in, first-out”). To add an item to the top of the stack, use append(). \n",
    "To retrieve an item from the top of the stack, use pop() without an explicit index. For example:\n",
    " "
   ]
  },
  {
   "cell_type": "code",
   "execution_count": null,
   "id": "174ebab9",
   "metadata": {},
   "outputs": [],
   "source": [
    "stack = [3, 4, 5]\n",
    "stack.append(6)\n",
    "stack.append(7)\n",
    "stack\n",
    "\n",
    "\n",
    "stack.pop()\n",
    "stack\n",
    "\n",
    "stack.pop()\n",
    "stack.pop()\n",
    "\n",
    "stack\n"
   ]
  },
  {
   "cell_type": "markdown",
   "id": "18085d37",
   "metadata": {},
   "source": [
    "#### collections.deque\n",
    "It is also possible to use a list as a queue, where the first element added is the first element retrieved (“first-in, first-out”); however, lists are not efficient for this purpose. \n",
    "\n",
    "While appends and pops from the end of list are fast, doing inserts or pops from the beginning of a list is slow (because all of the other elements have to be shifted by one).\n",
    "\n",
    "To implement a queue, use collections.deque which was designed to have fast appends and pops from both ends. For example:\n",
    " "
   ]
  },
  {
   "cell_type": "code",
   "execution_count": 26,
   "id": "6e4472fb",
   "metadata": {},
   "outputs": [
    {
     "ename": "SyntaxError",
     "evalue": "invalid syntax (677991113.py, line 14)",
     "output_type": "error",
     "traceback": [
      "\u001b[1;36m  Cell \u001b[1;32mIn[26], line 14\u001b[1;36m\u001b[0m\n\u001b[1;33m    The list type isn’t optimized for this, so this works best when the structures are small (typically a few hundred items or smaller). For larger structures, you may need a specialized data structure, such as collections.deque.\u001b[0m\n\u001b[1;37m        ^\u001b[0m\n\u001b[1;31mSyntaxError\u001b[0m\u001b[1;31m:\u001b[0m invalid syntax\n"
     ]
    }
   ],
   "source": [
    "\n",
    ">>> \n",
    ">>> from collections import deque\n",
    ">>> myqueue = deque([\"Eric\", \"John\", \"Michael\"])\n",
    ">>> myqueue.append(\"Terry\")                   # Terry arrives\n",
    ">>> myqueue.append(\"Graham\")                  # Graham arrives\n",
    ">>> myqueue.popleft()                         # The first to arrive now leaves\n",
    "'Eric'\n",
    ">>> myqueue.popleft()                         # The second to arrive now leaves\n",
    "'John'\n",
    ">>> myqueue                                   # Remaining queue in order of arrival\n",
    "deque(['Michael', 'Terry', 'Graham'])\n",
    " \n"
   ]
  },
  {
   "cell_type": "markdown",
   "id": "5f1d6e70",
   "metadata": {},
   "source": [
    "The list type isn’t optimized for this, so this works best when the structures are small (typically a few hundred items or smaller). \n",
    "\n",
    "For larger structures, you may need a specialized data structure, such as collections.deque.\n",
    "\n",
    "Another data structure for which a list works well in practice, as long as the structure is reasonably small, is an LRU (least-recently-used) container. The following statements moves an object to the end of the list:\n",
    "    \n",
    "    lru.remove(item)\n",
    "    lru.append(item)\n",
    "    \n",
    "If you do the above every time you access an item in the LRU list, the least recently used items will move towards the beginning of the list. (for a simple cache implementation using this approach, see Caching.)\n",
    " "
   ]
  },
  {
   "cell_type": "markdown",
   "id": "e14bdb53",
   "metadata": {},
   "source": [
    "#### Lists Functional programming tools filter(), map(), reduce\n",
    "There are three built-in functions that are very useful when used with lists: \n",
    "\n",
    "    filter(), map(), and reduce()."
   ]
  },
  {
   "cell_type": "markdown",
   "id": "3793266f",
   "metadata": {},
   "source": [
    "filter()\n",
    "filter(function, sequence): returns a sequence consisting of those items from the sequence for which function(item) is true. \n",
    "If sequence is a string or tuple, the result will be of the same type; otherwise, it is always a list. \n",
    "\n",
    "For example, to compute a sequence of numbers not divisible by 2 and 3:"
   ]
  },
  {
   "cell_type": "code",
   "execution_count": null,
   "id": "24538049",
   "metadata": {},
   "outputs": [],
   "source": [
    "# filter() example\n",
    "def f(x): \n",
    "return x % 2 != 0 and x % 3 != 0  \n",
    "\n",
    "filter(f, range(2, 25))\n"
   ]
  },
  {
   "cell_type": "markdown",
   "id": "a5be948c",
   "metadata": {},
   "source": [
    "map()\n",
    "map(function, sequence): calls function(item) for each of the sequence’s items and returns a list of the return values. For example, to compute some cubes:\n"
   ]
  },
  {
   "cell_type": "code",
   "execution_count": null,
   "id": "b8dc0dd7",
   "metadata": {},
   "outputs": [],
   "source": [
    "def cube(x): \n",
    "return x*x*x\n",
    "\n",
    "map(cube, range(1, 11))\n",
    "[1, 8, 27, 64, 125, 216, 343, 512, 729, 1000]"
   ]
  },
  {
   "cell_type": "markdown",
   "id": "95ea2503",
   "metadata": {},
   "source": [
    "More than one sequence may be passed; the function must then have as many arguments as there are \n",
    "sequences and is called with the corresponding item from each sequence (or None if some sequence is shorter than another). For example:\n",
    " "
   ]
  },
  {
   "cell_type": "code",
   "execution_count": null,
   "id": "51e2871b",
   "metadata": {},
   "outputs": [],
   "source": [
    "\n",
    "L1=[1, 2, 3, 4, 5]\n",
    "L2=[10, 20, 30, 40]\n",
    "\n",
    "def add(x, y):\n",
    "return x + y \n",
    "\n",
    "for item in map(add, L1, L2):\n",
    "print (item)\n",
    "\n",
    "\n",
    "# Alt:\n",
    " \n",
    "list(map(add, L1, L2))\n",
    "\n",
    "    "
   ]
  },
  {
   "cell_type": "markdown",
   "id": "09119255",
   "metadata": {},
   "source": [
    "Reduce()\n",
    "reduce(function, sequence): returns a single value constructed by calling the binary function function on the first two items of the sequence, then on the result and the next item, and so on. For example, to compute the sum of the numbers 1 through 10:"
   ]
  },
  {
   "cell_type": "code",
   "execution_count": null,
   "id": "2150ebaa",
   "metadata": {},
   "outputs": [],
   "source": [
    "def add(x,y): \n",
    "return x+y\n",
    "\n",
    "reduce(add, range(1, 11))\n",
    "\t55\n",
    " "
   ]
  },
  {
   "cell_type": "markdown",
   "id": "02abb680",
   "metadata": {},
   "source": [
    "If there’s only one item in the sequence, its value is returned; if the sequence is empty, an exception is raised.\n",
    "A third argument can be passed to indicate the starting value. In this case the starting value is returned for an empty sequence, and the function is first applied to the starting value and the first sequence item, then to the result and the next item, and so on. For example,\n",
    " \n",
    "If there’s only one item in the sequence, its value is returned; if the sequence is empty, an exception is raised.\n",
    " \n",
    "A third argument can be passed to indicate the starting value. In this case the starting value is returned for an empty sequence, and the function is first applied to the starting value and the first sequence item, then to the result and the next item, and so on. For example,\n",
    " "
   ]
  },
  {
   "cell_type": "code",
   "execution_count": null,
   "id": "e4a650ac",
   "metadata": {},
   "outputs": [],
   "source": [
    "\t>>> \n",
    "\t>>> def sum(seq):\n",
    "\t...     def add(x,y): return x+y\n",
    "\t...     return reduce(add, seq, 0)\n",
    "\t...\n",
    "\t>>> sum(range(1, 11))\n",
    "\t55\n",
    "\n",
    "\t>>> sum([])\n",
    "\t0"
   ]
  },
  {
   "cell_type": "markdown",
   "id": "a3da54f7",
   "metadata": {},
   "source": [
    "\n",
    "Don’t use this example’s definition of sum(): since summing numbers is such a common need, a built-in function sum(sequence) is already provided, and works exactly like this.\n",
    " "
   ]
  },
  {
   "cell_type": "markdown",
   "id": "1b7a6e05",
   "metadata": {},
   "source": [
    " \n",
    "#### zip() function:  \n",
    "To loop over two or more sequences at the same time, the entries can be paired with the zip() function.\n"
   ]
  },
  {
   "cell_type": "code",
   "execution_count": null,
   "id": "b5d567db",
   "metadata": {},
   "outputs": [],
   "source": [
    "questions = ['name', 'quest', 'favorite color']\n",
    "answers = ['lancelot', 'the holy grail', 'blue']\n",
    "for q, a in zip(questions, answers):\n",
    "     print 'What is your {0}?  It is {1}.'.format(q, a)\n",
    "\n",
    "What is your name?  It is lancelot.\n",
    "What is your quest?  It is the holy grail.\n",
    "What is your favorite color?  It is blue.\n",
    " "
   ]
  },
  {
   "cell_type": "markdown",
   "id": "e2bbc899",
   "metadata": {},
   "source": [
    "\n",
    "\n",
    "\n",
    "#### Lists Comprehension\n",
    "For example, assume we want to create a list of squares, like:"
   ]
  },
  {
   "cell_type": "code",
   "execution_count": null,
   "id": "7850273d",
   "metadata": {},
   "outputs": [],
   "source": [
    "squares = []\n",
    "for x in range(10):\n",
    "     squares.append(x**2)\n",
    "\n",
    "squares\n",
    "[0, 1, 4, 9, 16, 25, 36, 49, 64, 81]\n",
    "\n",
    "    \n",
    "# We can obtain the same result with:\n",
    "squares = [x**2 for x in range(10)]\n",
    "    "
   ]
  },
  {
   "cell_type": "code",
   "execution_count": null,
   "id": "f02a7e53",
   "metadata": {},
   "outputs": [],
   "source": [
    "# This is also equivalent to \n",
    "\n",
    "squares = map(lambda x: x**2, range(10)), \n",
    "\n",
    "# but it’s more concise and readable."
   ]
  },
  {
   "cell_type": "markdown",
   "id": "b13781a9",
   "metadata": {},
   "source": [
    "\n",
    "A list comprehension consists of brackets containing an expression followed by a for clause, then zero or more for or if clauses. The result will be a new list resulting from evaluating the expression in the context of the for and if clauses which follow it. For example, this listcomp combines the elements of two lists if they are not equal:\n",
    " \n"
   ]
  },
  {
   "cell_type": "code",
   "execution_count": null,
   "id": "15dc3c18",
   "metadata": {},
   "outputs": [],
   "source": [
    "[(x, y) for x in [1,2,3] for y in [3,1,4] if x != y]\n",
    "\n",
    "[(1, 3), (1, 4), (2, 3), (2, 1), (2, 4), (3, 1), (3, 4)]\n",
    " \n",
    "and it’s equivalent to:\n",
    " \n",
    " \n",
    "combs = []\n",
    "for x in [1,2,3]:\n",
    "for y in [3,1,4]:\n",
    "       if x != y:\n",
    "            combs.append((x, y))\n",
    "\n",
    "combs\n"
   ]
  },
  {
   "cell_type": "markdown",
   "id": "8b35f2dd",
   "metadata": {},
   "source": [
    "Note how the order of the for and if statements is the same in both these snippets. \n",
    "If the expression is a tuple (e.g. the (x, y) in the previous example), it must be parenthesized\n"
   ]
  },
  {
   "cell_type": "code",
   "execution_count": 27,
   "id": "c06ea94c",
   "metadata": {},
   "outputs": [
    {
     "ename": "SyntaxError",
     "evalue": "illegal target for annotation (4115414790.py, line 1)",
     "output_type": "error",
     "traceback": [
      "\u001b[1;36m  Cell \u001b[1;32mIn[27], line 1\u001b[1;36m\u001b[0m\n\u001b[1;33m    zip():  To loop over two or more sequences at the same time, the entries can be paired with the zip() function.\u001b[0m\n\u001b[1;37m    ^\u001b[0m\n\u001b[1;31mSyntaxError\u001b[0m\u001b[1;31m:\u001b[0m illegal target for annotation\n"
     ]
    }
   ],
   "source": [
    "vec = [-4, -2, 0, 2, 4]\n",
    "[x*2 for x in vec]     # create a new list with the values doubled\n",
    "[-8, -4, 0, 4, 8]\n",
    " \n",
    "[x for x in vec if x >= 0]  #filter the list to exclude negative numbers\n",
    "[0, 2, 4]\n",
    " \n",
    "[abs(x) for x in vec]        # apply a function to all the elements\n",
    "[4, 2, 0, 2, 4]\n",
    "\n",
    "# call a method on each element\n",
    "freshfruit = ['  banana', '  loganberry ', 'passion fruit  ']\n",
    "[weapon.strip() for weapon in freshfruit]\n",
    "['banana', 'loganberry', 'passion fruit']\n",
    " \n",
    "\n",
    "# create a list of 2-tuples like (number, square)\n",
    "[(x, x**2) for x in range(6)]\n",
    "[(0, 0), (1, 1), (2, 4), (3, 9), (4, 16), (5, 25)]\n",
    " \n",
    " # the tuple must be parenthesized, otherwise an error is raised\n",
    "[x, x**2 for x in range(6)]\n",
    "File \"<stdin>\", line 1\n",
    "    [x, x**2 for x in range(6)]\n",
    "               ^\n",
    "# SyntaxError: invalid syntax\n",
    " \n",
    " # flatten a list using a listcomp with two 'for'\n",
    "vec = [[1,2,3], [4,5,6], [7,8,9]]\n",
    "[num for elem in vec for num in elem]\n",
    "[1, 2, 3, 4, 5, 6, 7, 8, 9]\n",
    " \n",
    " \n",
    "List comprehensions can contain complex expressions and nested functions:\n",
    " \n",
    " \n",
    "from math import pi\n",
    "[str(round(pi, i)) for i in range(1, 6)]\n",
    "['3.1', '3.14', '3.142', '3.1416', '3.14159']\n",
    "\n"
   ]
  },
  {
   "cell_type": "markdown",
   "id": "4d55c39c",
   "metadata": {},
   "source": [
    "    \n",
    "#### Nested List Comprehension\n",
    "The initial expression in a list comprehension can be any arbitrary expression, including another list comprehension. Consider the following example of a 3x4 matrix implemented as a list of 3 lists of length 4:\n"
   ]
  },
  {
   "cell_type": "code",
   "execution_count": null,
   "id": "150d7dee",
   "metadata": {},
   "outputs": [],
   "source": [
    "\n",
    "matrix = [\n",
    "     [1, 2, 3, 4],\n",
    "     [5, 6, 7, 8],\n",
    "     [9, 10, 11, 12],\n",
    " ]\n",
    " \n",
    "\n",
    "# The following list comprehension will transpose rows and columns\n",
    " \n",
    "\n",
    "[[row[i] for row in matrix] for i in range(4)]\n",
    "[[1, 5, 9], [2, 6, 10], [3, 7, 11], [4, 8, 12]]\n",
    " \n",
    "# As we saw in the previous section, the nested listcomp is evaluated in the context of the for that follows it, \n",
    "#so this example is equivalent to:\n",
    " \n",
    "transposed = []\n",
    "for i in range(4):\n",
    "    transposed.append([row[i] for row in matrix])\n",
    "\n",
    "transposed\n",
    "[[1, 5, 9], [2, 6, 10], [3, 7, 11], [4, 8, 12]]\n",
    "    \n",
    "which, in turn, is the same as:\n",
    " \n",
    "transposed = []\n",
    "for i in range(4):\n",
    "    # the following 3 lines implement the nested listcomp\n",
    "     transposed_row = []\n",
    "     for row in matrix:\n",
    "        transposed_row.append(row[i])\n",
    "        transposed.append(transposed_row)\n",
    "\n",
    "transposed\n",
    "[[1, 5, 9], [2, 6, 10], [3, 7, 11], [4, 8, 12]]\n",
    "\n",
    "    "
   ]
  },
  {
   "cell_type": "markdown",
   "id": "37b3e047",
   "metadata": {},
   "source": [
    "In the real world, you should prefer built-in functions to complex flow statements. \n",
    "The zip() function would do a great job for this use case:\n"
   ]
  },
  {
   "cell_type": "code",
   "execution_count": null,
   "id": "c8be8650",
   "metadata": {},
   "outputs": [],
   "source": [
    "zip(*matrix)\n",
    "[(1, 5, 9), (2, 6, 10), (3, 7, 11), (4, 8, 12)]"
   ]
  },
  {
   "cell_type": "markdown",
   "id": "1ec8ebb8",
   "metadata": {},
   "source": [
    "\n",
    "#### Searching Lists #\n",
    "The in operator can be used to check if an item is present in the list:"
   ]
  },
  {
   "cell_type": "code",
   "execution_count": null,
   "id": "85f3ef49",
   "metadata": {},
   "outputs": [],
   "source": [
    "\n",
    "if value in L:\n",
    "        print \"list contains\", value\n",
    "\n",
    "# To get the index of the first matching item, use index:\n",
    "    \n",
    "    i = L.index(value)\n",
    " \n",
    "# The index method does a linear search, and stops at the first matching item. If no matching item is found, it raises a ValueError exception.\n",
    "    \n",
    "try:\n",
    "    i = L.index(value)\n",
    "except ValueError:\n",
    "    i = -1 # no match\n",
    "        \n",
    "# To get the index for all matching items, you can use a loop, and pass in a start index:\n",
    "\n",
    "    i = -1\n",
    "    try:\n",
    "        while 1:\n",
    "            i = L.index(value, i+1)\n",
    "            print \"match at\", i\n",
    "    except ValueError:\n",
    "        pass\n",
    " \n",
    "# Moving the loop into a helper function makes it easier to use:\n",
    "def findall(L, value, start=0):\n",
    "    # generator version\n",
    "    i = start - 1\n",
    "    try:\n",
    "        i = L.index(value, i+1)\n",
    "        yield i\n",
    "    except ValueError:\n",
    "        pass\n",
    " \n",
    " \n",
    "for index in findall(L, value):\n",
    "    print \"match at\", i\n",
    " \n",
    "# To count matching items, use the count method:\n",
    "    \n",
    "    n = L.count(value)\n"
   ]
  },
  {
   "cell_type": "markdown",
   "id": "00ab7612",
   "metadata": {},
   "source": [
    "Note that count loops over the entire list, so if you just want to check if a value is present in the list, you should use in or, where applicable, index.\n",
    "To get the smallest or largest item in a list, use the built-in min and max functions:\n",
    "    "
   ]
  },
  {
   "cell_type": "code",
   "execution_count": null,
   "id": "793da564",
   "metadata": {},
   "outputs": [],
   "source": [
    "    lo = min(L)\n",
    "    hi = max(L)\n",
    "    \n",
    "# As with sort (see below), you can pass in a key function that is used to map the list items before they are compared:\n",
    "   \n",
    "    lo = min(L, key=int)\n",
    "    hi = max(L, key=int)"
   ]
  },
  {
   "cell_type": "markdown",
   "id": "8c6c1526",
   "metadata": {},
   "source": [
    "\n",
    "\n",
    "#### Sorting Lists \n",
    "The sort method sorts a list in place."
   ]
  },
  {
   "cell_type": "code",
   "execution_count": null,
   "id": "ba2b27d0",
   "metadata": {},
   "outputs": [],
   "source": [
    "L.sort()\n",
    "\n",
    "# To get a sorted copy, use the built-in sorted function: \n",
    "out = sorted(L)"
   ]
  },
  {
   "cell_type": "markdown",
   "id": "e07870ca",
   "metadata": {},
   "source": [
    "An in-place sort is slightly more efficient, since Python does not have to allocate a new list to hold the result.\n",
    "By default, Python’s sort algorithm determines the order by comparing the objects in the list against each other. You can override this by passing in a callable object that takes two items, and returns -1 for “less than”, 0 for “equal”, and 1 for “greater than”. The built-in cmp function is often useful for this:\n",
    "    "
   ]
  },
  {
   "cell_type": "code",
   "execution_count": null,
   "id": "0c0e5a34",
   "metadata": {},
   "outputs": [],
   "source": [
    "\n",
    "    def compare(a, b):\n",
    "        return cmp(int(a), int(b)) # compare as integers\n",
    " \n",
    "    L.sort(compare)\n",
    " \n",
    "    def compare_columns(a, b):\n",
    "        # sort on ascending index 0, descending index 2\n",
    "        return cmp(a[0], b[0]) or cmp(b[2], a[2])\n",
    " \n",
    "    out = sorted(L, compare_columns)\n",
    "\n",
    "    \n",
    "# Alternatively, you can specify a mapping between list items and search keys. If you do this, the sort algorithm will make one pass over the data to build a key array, and then sort both the key array and the list based on the keys.\n",
    "    \n",
    "    L.sort(key=int)\n",
    "    out = sorted(L, key=int)\n"
   ]
  },
  {
   "cell_type": "markdown",
   "id": "e92e8ee3",
   "metadata": {},
   "source": [
    "If the transform is complex or the list is large, this can be a lot faster than using a compare function, since the items only have to be transformed once.\n",
    "Python’s sort is stable; the order of items that compare equal will be preserved.\n"
   ]
  },
  {
   "cell_type": "markdown",
   "id": "36148f5d",
   "metadata": {},
   "source": [
    "\n",
    "#### Printing Lists \n",
    "By default, the list type does a repr on all items, and adds brackets and commas as necessary. In other words, for built-in types, the printed list looks like the corresponding list display:\n",
    "   "
   ]
  },
  {
   "cell_type": "code",
   "execution_count": null,
   "id": "6e788a95",
   "metadata": {},
   "outputs": [],
   "source": [
    " print [1, 2, 3] # prints [1, 2, 3]\n",
    "    \n",
    "# To control formatting, use the string join method, combined with either map or a list comprehension \n",
    "# or generator expression.\n",
    "    \n",
    "    print \"\".join(L) # if all items are strings\n",
    " \n",
    "    print \", \".join(map(str, L))\n",
    " \n",
    "    print \"|\".join(str(v) for v in L if v > 0)\n",
    "    \n",
    "# To print a list of string fragments to a file, you can use writelines instead of write:\n",
    "   \n",
    "sys.stdout.writelines(L) # if all items are strings\n",
    " "
   ]
  },
  {
   "cell_type": "code",
   "execution_count": null,
   "id": "370029f6",
   "metadata": {},
   "outputs": [],
   "source": []
  }
 ],
 "metadata": {
  "kernelspec": {
   "display_name": "Python 3 (ipykernel)",
   "language": "python",
   "name": "python3"
  },
  "language_info": {
   "codemirror_mode": {
    "name": "ipython",
    "version": 3
   },
   "file_extension": ".py",
   "mimetype": "text/x-python",
   "name": "python",
   "nbconvert_exporter": "python",
   "pygments_lexer": "ipython3",
   "version": "3.9.7"
  }
 },
 "nbformat": 4,
 "nbformat_minor": 5
}
