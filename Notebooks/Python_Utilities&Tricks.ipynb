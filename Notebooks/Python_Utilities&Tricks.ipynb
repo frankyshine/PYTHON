{
 "cells": [
  {
   "cell_type": "code",
   "execution_count": null,
   "id": "bed267d7",
   "metadata": {},
   "outputs": [],
   "source": [
    "When we were writing this book, we were asked to avoid using tabs in source-code listings and use spaces instead. \n",
    "Tabs can wreak havoc with typesetting, and since indentation matters in Python, incorrect typesetting has the \n",
    "potential to break examples. But since old habits die hard (at least one of us uses tabs to indent his own Python code), \n",
    "we wanted a tool to find any tabs that may have crept into our code before it was shipped off for publication. \n",
    "The following script, findtabs.py, does the trick:\n"
   ]
  },
  {
   "cell_type": "code",
   "execution_count": null,
   "id": "c1bcba8c",
   "metadata": {},
   "outputs": [],
   "source": [
    "\t#!/usr/bin/env python\n",
    "\t# find files, search for tabs\n",
    "\timport string, os\n",
    "\tcmd = 'find . -name \"*.py\" -print'         # find is a standard Unix tool\n",
    "\t \n",
    "\tfor file in os.popen(cmd).readlines():     # run find command\n",
    "\t    num  = 1\n",
    "\t    name = file[:-1]                       # strip '\\n'\n",
    "\t    for line in open(name).readlines():    # scan the file\n",
    "\t        pos = string.find(line, \"\\t\")\n",
    "\t        if  pos >= 0:\n",
    "\t            print name, num, pos           # report tab found\n",
    "\t            print '....', line[:-1]        # [:-1] strips final \\n\n",
    "\t            print '....', ' '*pos + '*', '\\n'\n",
    "\t        num = num+1\n"
   ]
  },
  {
   "cell_type": "markdown",
   "id": "e8dada26",
   "metadata": {},
   "source": [
    "This script uses two nested for loops. The outer loop uses os.popen to run a find shell command, which returns a list \n",
    "of all the Python source filenames accessible in the current directory and its subdirectories. The inner loop reads each \n",
    "line in the current file, using string.find to look for tabs. But the real magic in this script is in the built-in tools \n",
    "it employs:"
   ]
  }
 ],
 "metadata": {
  "kernelspec": {
   "display_name": "Python 3 (ipykernel)",
   "language": "python",
   "name": "python3"
  },
  "language_info": {
   "codemirror_mode": {
    "name": "ipython",
    "version": 3
   },
   "file_extension": ".py",
   "mimetype": "text/x-python",
   "name": "python",
   "nbconvert_exporter": "python",
   "pygments_lexer": "ipython3",
   "version": "3.9.7"
  }
 },
 "nbformat": 4,
 "nbformat_minor": 5
}
